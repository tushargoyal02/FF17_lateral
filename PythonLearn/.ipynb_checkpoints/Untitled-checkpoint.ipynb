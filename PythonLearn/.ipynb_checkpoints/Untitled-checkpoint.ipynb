{
 "cells": [
  {
   "cell_type": "code",
   "execution_count": 1,
   "id": "03fa62b0",
   "metadata": {},
   "outputs": [],
   "source": [
    "# testcode"
   ]
  },
  {
   "cell_type": "code",
   "execution_count": 4,
   "id": "11edd1bf",
   "metadata": {},
   "outputs": [],
   "source": [
    "def userInfo(func):\n",
    "  def employee():\n",
    "    print(\"employee info\")\n",
    "\n",
    "    func()\n",
    "\n",
    "    print(\"After employee\")\n",
    "\n",
    "  return employee\n",
    "\n",
    "@userInfo\n",
    "def checkf():\n",
    "  print(\"check user\")\n",
    "\n",
    "def user():\n",
    "    print(\"user new info\")"
   ]
  },
  {
   "cell_type": "code",
   "execution_count": 5,
   "id": "ee13307a",
   "metadata": {},
   "outputs": [
    {
     "name": "stdout",
     "output_type": "stream",
     "text": [
      "employee info\n",
      "check user\n",
      "After employee\n"
     ]
    }
   ],
   "source": [
    "checkf()"
   ]
  },
  {
   "cell_type": "code",
   "execution_count": null,
   "id": "e961a8c8",
   "metadata": {},
   "outputs": [],
   "source": []
  }
 ],
 "metadata": {
  "kernelspec": {
   "display_name": "Python 3 (ipykernel)",
   "language": "python",
   "name": "python3"
  },
  "language_info": {
   "codemirror_mode": {
    "name": "ipython",
    "version": 3
   },
   "file_extension": ".py",
   "mimetype": "text/x-python",
   "name": "python",
   "nbconvert_exporter": "python",
   "pygments_lexer": "ipython3",
   "version": "3.8.10"
  }
 },
 "nbformat": 4,
 "nbformat_minor": 5
}
