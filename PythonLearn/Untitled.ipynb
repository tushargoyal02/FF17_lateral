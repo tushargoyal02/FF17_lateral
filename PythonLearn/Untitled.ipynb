{
 "cells": [
  {
   "cell_type": "code",
   "execution_count": 1,
   "id": "6b4c3051",
   "metadata": {},
   "outputs": [],
   "source": [
    "# testcode"
   ]
  },
  {
   "cell_type": "code",
   "execution_count": 7,
   "id": "4f943540",
   "metadata": {},
   "outputs": [],
   "source": [
    "def userInfo(func):\n",
    "  def employee():\n",
    "    print(\"employee info\")\n",
    "\n",
    "    func()\n",
    "\n",
    "    print(\"After employee\")\n",
    "\n",
    "  return employee\n",
    "\n",
    "@userInfo\n",
    "def checkf():\n",
    "  print(\"check user\")\n",
    "\n",
    "@userInfo\n",
    "def user():\n",
    "    print(\"user new info\")"
   ]
  },
  {
   "cell_type": "code",
   "execution_count": 8,
   "id": "c224647a",
   "metadata": {},
   "outputs": [
    {
     "name": "stdout",
     "output_type": "stream",
     "text": [
      "employee info\n",
      "check user\n",
      "After employee\n"
     ]
    }
   ],
   "source": [
    "checkf()"
   ]
  },
  {
   "cell_type": "code",
   "execution_count": 9,
   "id": "c05fd740",
   "metadata": {},
   "outputs": [
    {
     "name": "stdout",
     "output_type": "stream",
     "text": [
      "employee info\n",
      "user new info\n",
      "After employee\n"
     ]
    }
   ],
   "source": [
    "user()"
   ]
  },
  {
   "cell_type": "code",
   "execution_count": 15,
   "id": "c15a6a8b",
   "metadata": {},
   "outputs": [],
   "source": [
    "def userInfo(func):\n",
    "  def employee(val1):\n",
    "    print(\"employee info\")\n",
    "\n",
    "    func(val1+2)\n",
    "\n",
    "    print(\"After employee\")\n",
    "\n",
    "  return employee\n",
    "\n",
    "@userInfo\n",
    "def checkf(val1):\n",
    "  print(f\"check user {val1}\")\n",
    "\n",
    "@userInfo\n",
    "def user():\n",
    "    print(\"user new info\")"
   ]
  },
  {
   "cell_type": "code",
   "execution_count": 16,
   "id": "893dc260",
   "metadata": {},
   "outputs": [
    {
     "name": "stdout",
     "output_type": "stream",
     "text": [
      "employee info\n",
      "check user 12\n",
      "After employee\n"
     ]
    }
   ],
   "source": [
    "checkf(10)"
   ]
  },
  {
   "cell_type": "code",
   "execution_count": 17,
   "id": "f3abab04",
   "metadata": {},
   "outputs": [
    {
     "ename": "TypeError",
     "evalue": "employee() missing 1 required positional argument: 'val1'",
     "output_type": "error",
     "traceback": [
      "\u001b[1;31m-----------------------------------------------------------------------\u001b[0m",
      "\u001b[1;31mTypeError\u001b[0m                             Traceback (most recent call last)",
      "Cell \u001b[1;32mIn [17], line 1\u001b[0m\n\u001b[1;32m----> 1\u001b[0m \u001b[43muser\u001b[49m\u001b[43m(\u001b[49m\u001b[43m)\u001b[49m\n",
      "\u001b[1;31mTypeError\u001b[0m: employee() missing 1 required positional argument: 'val1'"
     ]
    }
   ],
   "source": [
    "user()"
   ]
  },
  {
   "cell_type": "code",
   "execution_count": null,
   "id": "ec1a4848",
   "metadata": {},
   "outputs": [],
   "source": []
  }
 ],
 "metadata": {
  "kernelspec": {
   "display_name": "Python 3 (ipykernel)",
   "language": "python",
   "name": "python3"
  },
  "language_info": {
   "codemirror_mode": {
    "name": "ipython",
    "version": 3
   },
   "file_extension": ".py",
   "mimetype": "text/x-python",
   "name": "python",
   "nbconvert_exporter": "python",
   "pygments_lexer": "ipython3",
   "version": "3.8.10"
  }
 },
 "nbformat": 4,
 "nbformat_minor": 5
}
