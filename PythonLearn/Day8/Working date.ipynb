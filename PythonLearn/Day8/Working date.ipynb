{
 "cells": [
  {
   "cell_type": "code",
   "execution_count": 22,
   "id": "0bb36095",
   "metadata": {},
   "outputs": [],
   "source": [
    "import datetime as dt\n",
    "\n",
    "import pandas as pd"
   ]
  },
  {
   "cell_type": "code",
   "execution_count": 16,
   "id": "c566baf6",
   "metadata": {},
   "outputs": [
    {
     "data": {
      "text/plain": [
       "datetime.date(2023, 3, 14)"
      ]
     },
     "execution_count": 16,
     "metadata": {},
     "output_type": "execute_result"
    }
   ],
   "source": [
    "dt.date(2023,12,3)\n",
    "\n",
    "dt.date(year=2023,day=14,month=3)"
   ]
  },
  {
   "cell_type": "code",
   "execution_count": 19,
   "id": "23ef708b",
   "metadata": {},
   "outputs": [],
   "source": [
    "\n",
    "\n",
    "d=dt.datetime(2021,10,3,10,30)"
   ]
  },
  {
   "cell_type": "code",
   "execution_count": 21,
   "id": "dcf6601b",
   "metadata": {},
   "outputs": [
    {
     "data": {
      "text/plain": [
       "'2021-10-03 10:30:00'"
      ]
     },
     "execution_count": 21,
     "metadata": {},
     "output_type": "execute_result"
    }
   ],
   "source": [
    "str(d)"
   ]
  },
  {
   "cell_type": "code",
   "execution_count": null,
   "id": "d3a078bf",
   "metadata": {},
   "outputs": [],
   "source": []
  },
  {
   "cell_type": "code",
   "execution_count": null,
   "id": "948edb74",
   "metadata": {},
   "outputs": [],
   "source": []
  },
  {
   "cell_type": "code",
   "execution_count": null,
   "id": "43ff3881",
   "metadata": {},
   "outputs": [],
   "source": []
  },
  {
   "cell_type": "code",
   "execution_count": 28,
   "id": "de98b464",
   "metadata": {},
   "outputs": [
    {
     "data": {
      "text/plain": [
       "Timestamp('2022-10-15 00:00:00')"
      ]
     },
     "execution_count": 28,
     "metadata": {},
     "output_type": "execute_result"
    }
   ],
   "source": [
    "type(pd.Timestamp(2022,10,5))\n",
    "\n",
    "pd.Timestamp(2022,10,5)\n",
    "pd.Timestamp(2022,10,15)"
   ]
  },
  {
   "cell_type": "code",
   "execution_count": 30,
   "id": "0f64396f",
   "metadata": {},
   "outputs": [
    {
     "data": {
      "text/plain": [
       "Timestamp('1970-01-01 00:00:00.000000013')"
      ]
     },
     "execution_count": 30,
     "metadata": {},
     "output_type": "execute_result"
    }
   ],
   "source": [
    "pd.Timestamp(2022/10/15,)"
   ]
  },
  {
   "cell_type": "code",
   "execution_count": 65,
   "id": "415bae5f",
   "metadata": {},
   "outputs": [
    {
     "data": {
      "text/plain": [
       "Timestamp('1952-08-07 00:00:00')"
      ]
     },
     "execution_count": 65,
     "metadata": {},
     "output_type": "execute_result"
    }
   ],
   "source": [
    "pd.to_datetime('2018-01-15 10')\n",
    "\n",
    "pd.to_datetime('7_8_1952',format=\"%d_%m_%Y\")\n",
    "\n",
    "\n",
    "# pd.to_datetime(\"2011 Oct 20 \")"
   ]
  },
  {
   "cell_type": "code",
   "execution_count": 45,
   "id": "dd0f4b79",
   "metadata": {},
   "outputs": [],
   "source": [
    "dataList= ['2018-01-05', '7/8/1952', 'Oct 10, 1995']\n",
    "indexDate = pd.DatetimeIndex(dataList)"
   ]
  },
  {
   "cell_type": "code",
   "execution_count": 47,
   "id": "db58d76d",
   "metadata": {},
   "outputs": [
    {
     "data": {
      "text/plain": [
       "2018-01-05    Tushar\n",
       "1952-07-08      Yash\n",
       "1995-10-10      Aman\n",
       "dtype: object"
      ]
     },
     "execution_count": 47,
     "metadata": {},
     "output_type": "execute_result"
    }
   ],
   "source": [
    "pd.Series([\"Tushar\",\"Yash\",\"Aman\"], index=indexDate)"
   ]
  },
  {
   "cell_type": "code",
   "execution_count": 59,
   "id": "2d6ea1a0",
   "metadata": {},
   "outputs": [
    {
     "data": {
      "text/plain": [
       "0      2018-01-05\n",
       "1        7/8/1952\n",
       "2    Oct 10, 1995\n",
       "3          tushar\n",
       "dtype: object"
      ]
     },
     "execution_count": 59,
     "metadata": {},
     "output_type": "execute_result"
    }
   ],
   "source": [
    "s=pd.Series( ['2018-01-05', '7/8/1952', 'Oct 10, 1995',\"tushar\"])\n",
    "\n",
    "s"
   ]
  },
  {
   "cell_type": "code",
   "execution_count": 62,
   "id": "ecc21daf",
   "metadata": {},
   "outputs": [
    {
     "data": {
      "text/plain": [
       "0   2018-01-05\n",
       "1   1952-07-08\n",
       "2   1995-10-10\n",
       "3          NaT\n",
       "dtype: datetime64[ns]"
      ]
     },
     "execution_count": 62,
     "metadata": {},
     "output_type": "execute_result"
    }
   ],
   "source": [
    "pd.to_datetime(s,errors=\"coerce\")\n",
    "\n",
    "\n",
    "# error=coerce"
   ]
  },
  {
   "cell_type": "code",
   "execution_count": 67,
   "id": "4c851cc2",
   "metadata": {},
   "outputs": [
    {
     "data": {
      "text/plain": [
       "DatetimeIndex(['2023-02-23', '2023-02-24', '2023-02-25', '2023-02-26',\n",
       "               '2023-02-27', '2023-02-28'],\n",
       "              dtype='datetime64[ns]', freq='D')"
      ]
     },
     "execution_count": 67,
     "metadata": {},
     "output_type": "execute_result"
    }
   ],
   "source": [
    "pd.date_range(start=\"2023-02-23\",end=\"2023-02-28\", freq=\"D\")"
   ]
  },
  {
   "cell_type": "code",
   "execution_count": 68,
   "id": "485745a9",
   "metadata": {},
   "outputs": [
    {
     "data": {
      "text/plain": [
       "DatetimeIndex(['2023-02-23', '2023-02-25', '2023-02-27'], dtype='datetime64[ns]', freq='2D')"
      ]
     },
     "execution_count": 68,
     "metadata": {},
     "output_type": "execute_result"
    }
   ],
   "source": [
    "pd.date_range(start=\"2023-02-23\",end=\"2023-02-28\", freq=\"2D\")"
   ]
  },
  {
   "cell_type": "code",
   "execution_count": 69,
   "id": "4a68dce5",
   "metadata": {},
   "outputs": [
    {
     "data": {
      "text/plain": [
       "DatetimeIndex(['2023-02-23', '2023-02-24', '2023-02-27', '2023-02-28'], dtype='datetime64[ns]', freq='B')"
      ]
     },
     "execution_count": 69,
     "metadata": {},
     "output_type": "execute_result"
    }
   ],
   "source": [
    "pd.date_range(start=\"2023-02-23\",end=\"2023-02-28\", freq=\"B\")"
   ]
  },
  {
   "cell_type": "code",
   "execution_count": 71,
   "id": "8397bc9f",
   "metadata": {},
   "outputs": [
    {
     "data": {
      "text/plain": [
       "DatetimeIndex(['2023-02-26'], dtype='datetime64[ns]', freq='W-SUN')"
      ]
     },
     "execution_count": 71,
     "metadata": {},
     "output_type": "execute_result"
    }
   ],
   "source": [
    "pd.date_range(start=\"2023-02-23\",end=\"2023-02-28\", freq=\"W-SUN\")"
   ]
  },
  {
   "cell_type": "code",
   "execution_count": 72,
   "id": "ff03336f",
   "metadata": {},
   "outputs": [
    {
     "data": {
      "text/plain": [
       "DatetimeIndex(['2023-02-24'], dtype='datetime64[ns]', freq='W-FRI')"
      ]
     },
     "execution_count": 72,
     "metadata": {},
     "output_type": "execute_result"
    }
   ],
   "source": [
    "pd.date_range(start=\"2023-02-23\",end=\"2023-02-28\", freq=\"W-FRI\")"
   ]
  },
  {
   "cell_type": "code",
   "execution_count": 74,
   "id": "18aa487d",
   "metadata": {},
   "outputs": [
    {
     "data": {
      "text/plain": [
       "DatetimeIndex(['2023-02-28', '2023-03-31', '2023-04-30'], dtype='datetime64[ns]', freq='M')"
      ]
     },
     "execution_count": 74,
     "metadata": {},
     "output_type": "execute_result"
    }
   ],
   "source": [
    "pd.date_range(start=\"2023-02-23\",end=\"2023-05-28\", freq=\"M\")"
   ]
  },
  {
   "cell_type": "code",
   "execution_count": 80,
   "id": "5961d332",
   "metadata": {},
   "outputs": [
    {
     "data": {
      "text/plain": [
       "DatetimeIndex(['2023-02-01 10:00:00', '2023-03-01 10:00:00',\n",
       "               '2023-04-01 10:00:00'],\n",
       "              dtype='datetime64[ns]', freq='MS')"
      ]
     },
     "execution_count": 80,
     "metadata": {},
     "output_type": "execute_result"
    }
   ],
   "source": [
    "pd.date_range(start=\"2023-02-010 10\",end=\"2023-05-28\", freq=\"MS\")"
   ]
  },
  {
   "cell_type": "code",
   "execution_count": 81,
   "id": "376d8a77",
   "metadata": {},
   "outputs": [
    {
     "data": {
      "text/plain": [
       "DatetimeIndex(['2023-02-01', '2023-03-01', '2023-04-01', '2023-05-01'], dtype='datetime64[ns]', freq='MS')"
      ]
     },
     "execution_count": 81,
     "metadata": {},
     "output_type": "execute_result"
    }
   ],
   "source": [
    "pd.date_range(start=\"2023-02-01\",end=\"2023-05-28\", freq=\"MS\")"
   ]
  },
  {
   "cell_type": "code",
   "execution_count": 84,
   "id": "bc04a837",
   "metadata": {},
   "outputs": [
    {
     "data": {
      "text/plain": [
       "DatetimeIndex(['2023-02-28', '2023-03-31', '2023-04-30'], dtype='datetime64[ns]', freq='M')"
      ]
     },
     "execution_count": 84,
     "metadata": {},
     "output_type": "execute_result"
    }
   ],
   "source": [
    "pd.date_range(start=\"2023-02-28\",end=\"2023-05-15\", freq=\"M\")"
   ]
  },
  {
   "cell_type": "code",
   "execution_count": 86,
   "id": "ab60bf4e",
   "metadata": {},
   "outputs": [
    {
     "data": {
      "text/plain": [
       "DatetimeIndex(['2023-02-28 00:00:00', '2023-02-28 06:00:00',\n",
       "               '2023-02-28 12:00:00', '2023-02-28 18:00:00',\n",
       "               '2023-03-01 00:00:00', '2023-03-01 06:00:00',\n",
       "               '2023-03-01 12:00:00', '2023-03-01 18:00:00',\n",
       "               '2023-03-02 00:00:00', '2023-03-02 06:00:00',\n",
       "               ...\n",
       "               '2023-05-12 18:00:00', '2023-05-13 00:00:00',\n",
       "               '2023-05-13 06:00:00', '2023-05-13 12:00:00',\n",
       "               '2023-05-13 18:00:00', '2023-05-14 00:00:00',\n",
       "               '2023-05-14 06:00:00', '2023-05-14 12:00:00',\n",
       "               '2023-05-14 18:00:00', '2023-05-15 00:00:00'],\n",
       "              dtype='datetime64[ns]', length=305, freq='6H')"
      ]
     },
     "execution_count": 86,
     "metadata": {},
     "output_type": "execute_result"
    }
   ],
   "source": [
    "pd.date_range(start=\"2023-02-28\",end=\"2023-03-28\", freq=\"6H\")"
   ]
  },
  {
   "cell_type": "code",
   "execution_count": 91,
   "id": "86a79730",
   "metadata": {},
   "outputs": [
    {
     "data": {
      "text/plain": [
       "DatetimeIndex(['2023-02-01', '2023-02-02', '2023-02-03', '2023-02-04',\n",
       "               '2023-02-05', '2023-02-06', '2023-02-07', '2023-02-08',\n",
       "               '2023-02-09', '2023-02-10', '2023-02-11', '2023-02-12',\n",
       "               '2023-02-13', '2023-02-14', '2023-02-15', '2023-02-16',\n",
       "               '2023-02-17', '2023-02-18', '2023-02-19', '2023-02-20',\n",
       "               '2023-02-21', '2023-02-22', '2023-02-23', '2023-02-24',\n",
       "               '2023-02-25', '2023-02-26', '2023-02-27', '2023-02-28',\n",
       "               '2023-03-01', '2023-03-02'],\n",
       "              dtype='datetime64[ns]', freq='D')"
      ]
     },
     "execution_count": 91,
     "metadata": {},
     "output_type": "execute_result"
    }
   ],
   "source": [
    "pd.date_range(start=\"2023-02-01\", periods=30, freq=\"D\")"
   ]
  },
  {
   "cell_type": "code",
   "execution_count": 92,
   "id": "948d0dc5",
   "metadata": {},
   "outputs": [
    {
     "data": {
      "text/plain": [
       "DatetimeIndex(['2023-01-30', '2023-01-31', '2023-02-01', '2023-02-02',\n",
       "               '2023-02-03', '2023-02-04', '2023-02-05', '2023-02-06',\n",
       "               '2023-02-07', '2023-02-08', '2023-02-09', '2023-02-10',\n",
       "               '2023-02-11', '2023-02-12', '2023-02-13', '2023-02-14',\n",
       "               '2023-02-15', '2023-02-16', '2023-02-17', '2023-02-18',\n",
       "               '2023-02-19', '2023-02-20', '2023-02-21', '2023-02-22',\n",
       "               '2023-02-23', '2023-02-24', '2023-02-25', '2023-02-26',\n",
       "               '2023-02-27', '2023-02-28'],\n",
       "              dtype='datetime64[ns]', freq='D')"
      ]
     },
     "execution_count": 92,
     "metadata": {},
     "output_type": "execute_result"
    }
   ],
   "source": [
    "pd.date_range(end=\"2023-02-28\", periods=30, freq=\"D\")"
   ]
  },
  {
   "cell_type": "code",
   "execution_count": null,
   "id": "cce5e1d8",
   "metadata": {},
   "outputs": [],
   "source": []
  }
 ],
 "metadata": {
  "kernelspec": {
   "display_name": "Python 3 (ipykernel)",
   "language": "python",
   "name": "python3"
  },
  "language_info": {
   "codemirror_mode": {
    "name": "ipython",
    "version": 3
   },
   "file_extension": ".py",
   "mimetype": "text/x-python",
   "name": "python",
   "nbconvert_exporter": "python",
   "pygments_lexer": "ipython3",
   "version": "3.8.10"
  }
 },
 "nbformat": 4,
 "nbformat_minor": 5
}
