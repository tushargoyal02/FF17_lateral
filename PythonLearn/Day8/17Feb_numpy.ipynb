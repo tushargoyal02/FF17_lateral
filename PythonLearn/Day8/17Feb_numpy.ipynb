{
 "cells": [
  {
   "cell_type": "code",
   "execution_count": 1,
   "id": "3ace6bd7",
   "metadata": {},
   "outputs": [],
   "source": [
    "import numpy as np\n"
   ]
  },
  {
   "cell_type": "code",
   "execution_count": 3,
   "id": "10ae3f17",
   "metadata": {},
   "outputs": [],
   "source": [
    "array1=np.array([[2,3,4],[5,6,7],[8,9,20]])"
   ]
  },
  {
   "cell_type": "code",
   "execution_count": 4,
   "id": "8b7c9643",
   "metadata": {},
   "outputs": [
    {
     "data": {
      "text/plain": [
       "array([[2, 3, 4]])"
      ]
     },
     "execution_count": 4,
     "metadata": {},
     "output_type": "execute_result"
    }
   ],
   "source": [
    "#  basic indexing, stepwise  ( start: stop: step)\n",
    "#  step\n",
    "array1[0:1]"
   ]
  },
  {
   "cell_type": "code",
   "execution_count": 5,
   "id": "257e45e4",
   "metadata": {},
   "outputs": [
    {
     "data": {
      "text/plain": [
       "array([3])"
      ]
     },
     "execution_count": 5,
     "metadata": {},
     "output_type": "execute_result"
    }
   ],
   "source": [
    "array1[0:1,1]"
   ]
  },
  {
   "cell_type": "code",
   "execution_count": 6,
   "id": "7c1109b0",
   "metadata": {},
   "outputs": [
    {
     "data": {
      "text/plain": [
       "array([[ 2,  3,  4],\n",
       "       [ 5,  6,  7],\n",
       "       [ 8,  9, 20]])"
      ]
     },
     "execution_count": 6,
     "metadata": {},
     "output_type": "execute_result"
    }
   ],
   "source": [
    "array1"
   ]
  },
  {
   "cell_type": "code",
   "execution_count": 7,
   "id": "938c15f7",
   "metadata": {},
   "outputs": [
    {
     "data": {
      "text/plain": [
       "array([[ 2,  3,  4],\n",
       "       [ 8,  9, 20]])"
      ]
     },
     "execution_count": 7,
     "metadata": {},
     "output_type": "execute_result"
    }
   ],
   "source": [
    "array1[::2]"
   ]
  },
  {
   "cell_type": "code",
   "execution_count": 8,
   "id": "378e875b",
   "metadata": {},
   "outputs": [
    {
     "data": {
      "text/plain": [
       "array([[False, False, False],\n",
       "       [ True,  True,  True]])"
      ]
     },
     "execution_count": 8,
     "metadata": {},
     "output_type": "execute_result"
    }
   ],
   "source": [
    "#  condition over my numpy filter the data\n",
    "\n",
    "array1[::2] > 5"
   ]
  },
  {
   "cell_type": "code",
   "execution_count": 10,
   "id": "bedb3a0d",
   "metadata": {},
   "outputs": [
    {
     "data": {
      "text/plain": [
       "array([ 6,  7,  8,  9, 20])"
      ]
     },
     "execution_count": 10,
     "metadata": {},
     "output_type": "execute_result"
    }
   ],
   "source": [
    "\n",
    "array1 [ array1[::] > 5 ]"
   ]
  },
  {
   "cell_type": "code",
   "execution_count": 11,
   "id": "266bf4b4",
   "metadata": {},
   "outputs": [
    {
     "data": {
      "text/plain": [
       "array([[False, False, False],\n",
       "       [False,  True,  True],\n",
       "       [ True,  True,  True]])"
      ]
     },
     "execution_count": 11,
     "metadata": {},
     "output_type": "execute_result"
    }
   ],
   "source": [
    "array1[::] > 5"
   ]
  },
  {
   "cell_type": "code",
   "execution_count": 12,
   "id": "a9281f87",
   "metadata": {},
   "outputs": [
    {
     "data": {
      "text/plain": [
       "array([[ 2,  3,  4],\n",
       "       [ 5,  6,  7],\n",
       "       [ 8,  9, 20]])"
      ]
     },
     "execution_count": 12,
     "metadata": {},
     "output_type": "execute_result"
    }
   ],
   "source": [
    "array1"
   ]
  },
  {
   "cell_type": "code",
   "execution_count": 14,
   "id": "df900d13",
   "metadata": {},
   "outputs": [
    {
     "data": {
      "text/plain": [
       "(5,)"
      ]
     },
     "execution_count": 14,
     "metadata": {},
     "output_type": "execute_result"
    }
   ],
   "source": [
    "array1 [ array1[::] > 5 ].shape"
   ]
  },
  {
   "cell_type": "code",
   "execution_count": 15,
   "id": "8b834454",
   "metadata": {},
   "outputs": [
    {
     "data": {
      "text/plain": [
       "array([ 6,  7,  8,  9, 20])"
      ]
     },
     "execution_count": 15,
     "metadata": {},
     "output_type": "execute_result"
    }
   ],
   "source": [
    "#  array1 => filter condition => it doesn;t know what type value are going to be matched\n",
    "#  array1 => flattern the data\n",
    "\n",
    "array1 [ array1[::] > 5 ]"
   ]
  },
  {
   "cell_type": "code",
   "execution_count": null,
   "id": "3075f13f",
   "metadata": {},
   "outputs": [],
   "source": [
    "array1 [ array1[1,:] > 5 ]"
   ]
  },
  {
   "cell_type": "code",
   "execution_count": 20,
   "id": "25701ac4",
   "metadata": {},
   "outputs": [
    {
     "data": {
      "text/plain": [
       "array([[ 5,  6,  7],\n",
       "       [ 8,  9, 20]])"
      ]
     },
     "execution_count": 20,
     "metadata": {},
     "output_type": "execute_result"
    }
   ],
   "source": [
    "array1[ array1[1,:] >5 ]"
   ]
  },
  {
   "cell_type": "code",
   "execution_count": 18,
   "id": "ad89ba06",
   "metadata": {},
   "outputs": [
    {
     "data": {
      "text/plain": [
       "array([[ 2,  3,  4],\n",
       "       [ 5,  6,  7],\n",
       "       [ 8,  9, 20]])"
      ]
     },
     "execution_count": 18,
     "metadata": {},
     "output_type": "execute_result"
    }
   ],
   "source": [
    "array1"
   ]
  },
  {
   "cell_type": "code",
   "execution_count": 21,
   "id": "8aaa5e48",
   "metadata": {},
   "outputs": [
    {
     "data": {
      "text/plain": [
       "array([ 2,  4,  6,  8, 20])"
      ]
     },
     "execution_count": 21,
     "metadata": {},
     "output_type": "execute_result"
    }
   ],
   "source": [
    "array1[ array1[:,:] % 2 ==0  ]"
   ]
  },
  {
   "cell_type": "code",
   "execution_count": 22,
   "id": "27ac54c4",
   "metadata": {},
   "outputs": [
    {
     "data": {
      "text/plain": [
       "array([[0.00000000e+000, 0.00000000e+000, 0.00000000e+000],\n",
       "       [0.00000000e+000, 0.00000000e+000, 7.72718670e-321],\n",
       "       [7.56592337e-307, 9.34588060e-307, 3.62651150e-317]])"
      ]
     },
     "execution_count": 22,
     "metadata": {},
     "output_type": "execute_result"
    }
   ],
   "source": [
    "np.empty(shape=(3,3))"
   ]
  },
  {
   "cell_type": "code",
   "execution_count": 23,
   "id": "f175ab8f",
   "metadata": {},
   "outputs": [
    {
     "data": {
      "text/plain": [
       "array([[0.00000000e+000, 0.00000000e+000, 0.00000000e+000],\n",
       "       [0.00000000e+000, 0.00000000e+000, 7.72718670e-321],\n",
       "       [7.56592337e-307, 9.34588060e-307, 3.62651150e-317]])"
      ]
     },
     "execution_count": 23,
     "metadata": {},
     "output_type": "execute_result"
    }
   ],
   "source": [
    "np.empty(shape=(3,3))"
   ]
  },
  {
   "cell_type": "code",
   "execution_count": 25,
   "id": "a9f23863",
   "metadata": {},
   "outputs": [
    {
     "data": {
      "text/plain": [
       "dtype('float64')"
      ]
     },
     "execution_count": 25,
     "metadata": {},
     "output_type": "execute_result"
    }
   ],
   "source": [
    "np.zeros(shape=(3,3)).dtype"
   ]
  },
  {
   "cell_type": "code",
   "execution_count": 26,
   "id": "571fd789",
   "metadata": {},
   "outputs": [
    {
     "data": {
      "text/plain": [
       "array([[1., 1., 1.],\n",
       "       [1., 1., 1.],\n",
       "       [1., 1., 1.]])"
      ]
     },
     "execution_count": 26,
     "metadata": {},
     "output_type": "execute_result"
    }
   ],
   "source": [
    "np.ones(shape=(3,3))"
   ]
  },
  {
   "cell_type": "code",
   "execution_count": 32,
   "id": "624c16fc",
   "metadata": {},
   "outputs": [
    {
     "data": {
      "text/plain": [
       "array([['Abc', 'Abc', 'Abc'],\n",
       "       ['Abc', 'Abc', 'Abc'],\n",
       "       ['Abc', 'Abc', 'Abc']], dtype='<U3')"
      ]
     },
     "execution_count": 32,
     "metadata": {},
     "output_type": "execute_result"
    }
   ],
   "source": [
    "np.full(fill_value=\"Abc\",shape=(3,3))"
   ]
  },
  {
   "cell_type": "code",
   "execution_count": 33,
   "id": "f163c8e8",
   "metadata": {},
   "outputs": [],
   "source": [
    "array1=np.array([[2,3,4],[5,6,7],[8,9,20]])"
   ]
  },
  {
   "cell_type": "code",
   "execution_count": 34,
   "id": "a3b8c998",
   "metadata": {},
   "outputs": [
    {
     "data": {
      "text/plain": [
       "array([[ 2,  3,  4],\n",
       "       [ 5,  6,  7],\n",
       "       [ 8,  9, 20]])"
      ]
     },
     "execution_count": 34,
     "metadata": {},
     "output_type": "execute_result"
    }
   ],
   "source": [
    "array1"
   ]
  },
  {
   "cell_type": "code",
   "execution_count": 35,
   "id": "e1118ab3",
   "metadata": {},
   "outputs": [
    {
     "data": {
      "text/plain": [
       "array([[      0,       1,       0],\n",
       "       [5570652,     624,       0],\n",
       "       [    768,       0,       0]])"
      ]
     },
     "execution_count": 35,
     "metadata": {},
     "output_type": "execute_result"
    }
   ],
   "source": [
    "np.empty_like(array1)"
   ]
  },
  {
   "cell_type": "code",
   "execution_count": 36,
   "id": "edd17147",
   "metadata": {},
   "outputs": [
    {
     "data": {
      "text/plain": [
       "array([[        1,         1,         0],\n",
       "       [976301616,       660,         0],\n",
       "       [ 16777984,     32760,         0]])"
      ]
     },
     "execution_count": 36,
     "metadata": {},
     "output_type": "execute_result"
    }
   ],
   "source": [
    "np.empty_like(array1)"
   ]
  },
  {
   "cell_type": "code",
   "execution_count": 37,
   "id": "1c37db25",
   "metadata": {},
   "outputs": [
    {
     "data": {
      "text/plain": [
       "array([[1, 1, 1],\n",
       "       [1, 1, 1],\n",
       "       [1, 1, 1]])"
      ]
     },
     "execution_count": 37,
     "metadata": {},
     "output_type": "execute_result"
    }
   ],
   "source": [
    "np.ones_like(array1)"
   ]
  },
  {
   "cell_type": "code",
   "execution_count": 40,
   "id": "e95637c6",
   "metadata": {},
   "outputs": [
    {
     "name": "stderr",
     "output_type": "stream",
     "text": [
      "C:\\Users\\Tushar\\AppData\\Local\\Temp\\ipykernel_10204\\3705783193.py:1: DeprecationWarning: `np.str` is a deprecated alias for the builtin `str`. To silence this warning, use `str` by itself. Doing this will not modify any behavior and is safe. If you specifically wanted the numpy scalar type, use `np.str_` here.\n",
      "Deprecated in NumPy 1.20; for more details and guidance: https://numpy.org/devdocs/release/1.20.0-notes.html#deprecations\n",
      "  np.loadtxt(\"Lending-company.csv\",delimiter=\",\", dtype=np.str)\n"
     ]
    },
    {
     "data": {
      "text/plain": [
       "array([['LoanID', 'StringID', 'Product', ..., 'AmtPaid60', 'AmtPaid360',\n",
       "        'LoanStatus'],\n",
       "       ['1', 'LoanID_1', 'Product B', ..., '4166', '14621', 'Active'],\n",
       "       ['2', 'LoanID_2', 'Product D', ..., '4096', '16041', 'Active'],\n",
       "       ...,\n",
       "       ['1041', 'LoanID_1041', 'Product A', ..., '5143', '16617',\n",
       "        'Finished Payment'],\n",
       "       ['1042', 'LoanID_1042', 'Product B', ..., '3462', '15617',\n",
       "        'Finished Payment'],\n",
       "       ['1043', 'LoanID_1043', 'Product A', ..., '4743', '16617',\n",
       "        'Finished Payment']], dtype='<U16')"
      ]
     },
     "execution_count": 40,
     "metadata": {},
     "output_type": "execute_result"
    }
   ],
   "source": [
    "np.loadtxt(\"Lending-company.csv\",delimiter=\",\", dtype=np.str)"
   ]
  },
  {
   "cell_type": "code",
   "execution_count": 44,
   "id": "70af9800",
   "metadata": {},
   "outputs": [],
   "source": [
    "lendingFile = np.genfromtxt(\"Lending-company.csv\",delimiter=\",\")"
   ]
  },
  {
   "cell_type": "code",
   "execution_count": 45,
   "id": "d6dbcaea",
   "metadata": {},
   "outputs": [
    {
     "name": "stdout",
     "output_type": "stream",
     "text": [
      "[[       nan        nan        nan ...        nan        nan        nan]\n",
      " [1.0000e+00        nan        nan ... 4.1660e+03 1.4621e+04        nan]\n",
      " [2.0000e+00        nan        nan ... 4.0960e+03 1.6041e+04        nan]\n",
      " ...\n",
      " [1.0410e+03        nan        nan ... 5.1430e+03 1.6617e+04        nan]\n",
      " [1.0420e+03        nan        nan ... 3.4620e+03 1.5617e+04        nan]\n",
      " [1.0430e+03        nan        nan ... 4.7430e+03 1.6617e+04        nan]]\n"
     ]
    }
   ],
   "source": [
    "print(lendingFile)"
   ]
  },
  {
   "cell_type": "code",
   "execution_count": 46,
   "id": "95db37c3",
   "metadata": {},
   "outputs": [
    {
     "name": "stdout",
     "output_type": "stream",
     "text": [
      "[[   -1    -1    -1 ...    -1    -1    -1]\n",
      " [    1    -1    -1 ...  4166 14621    -1]\n",
      " [    2    -1    -1 ...  4096 16041    -1]\n",
      " ...\n",
      " [ 1041    -1    -1 ...  5143 16617    -1]\n",
      " [ 1042    -1    -1 ...  3462 15617    -1]\n",
      " [ 1043    -1    -1 ...  4743 16617    -1]]\n"
     ]
    }
   ],
   "source": [
    "#  4.1660 * 10**3\n",
    "# 4.1660*1000 => 4166\n",
    "\n",
    "lendingFile = np.genfromtxt(\"Lending-company.csv\",delimiter=\",\", dtype=np.int32)\n",
    "\n",
    "print(lendingFile)"
   ]
  },
  {
   "cell_type": "code",
   "execution_count": 47,
   "id": "cf46057c",
   "metadata": {},
   "outputs": [
    {
     "name": "stdout",
     "output_type": "stream",
     "text": [
      "[['LoanID' 'StringID' 'Product' ... 'AmtPaid60' 'AmtPaid360' 'LoanStatus']\n",
      " ['1' 'LoanID_1' 'Product B' ... '4166' '14621' 'Active']\n",
      " ['2' 'LoanID_2' 'Product D' ... '4096' '16041' 'Active']\n",
      " ...\n",
      " ['1041' 'LoanID_1041' 'Product A' ... '5143' '16617' 'Finished Payment']\n",
      " ['1042' 'LoanID_1042' 'Product B' ... '3462' '15617' 'Finished Payment']\n",
      " ['1043' 'LoanID_1043' 'Product A' ... '4743' '16617' 'Finished Payment']]\n"
     ]
    },
    {
     "name": "stderr",
     "output_type": "stream",
     "text": [
      "C:\\Users\\Tushar\\AppData\\Local\\Temp\\ipykernel_10204\\3187911927.py:1: DeprecationWarning: `np.str` is a deprecated alias for the builtin `str`. To silence this warning, use `str` by itself. Doing this will not modify any behavior and is safe. If you specifically wanted the numpy scalar type, use `np.str_` here.\n",
      "Deprecated in NumPy 1.20; for more details and guidance: https://numpy.org/devdocs/release/1.20.0-notes.html#deprecations\n",
      "  lendingFile = np.genfromtxt(\"Lending-company.csv\",delimiter=\",\", dtype=np.str)\n"
     ]
    }
   ],
   "source": [
    "lendingFile = np.genfromtxt(\"Lending-company.csv\",delimiter=\",\", dtype=np.str)\n",
    "\n",
    "print(lendingFile)"
   ]
  },
  {
   "cell_type": "code",
   "execution_count": 48,
   "id": "6b4d67b2",
   "metadata": {},
   "outputs": [
    {
     "name": "stdout",
     "output_type": "stream",
     "text": [
      "[[b'LoanID' b'StringID' b'Product' ... b'AmtPaid60' b'AmtPaid360'\n",
      "  b'LoanStatus']\n",
      " [b'1' b'LoanID_1' b'Product B' ... b'4166' b'14621' b'Active']\n",
      " [b'2' b'LoanID_2' b'Product D' ... b'4096' b'16041' b'Active']\n",
      " ...\n",
      " [b'1041' b'LoanID_1041' b'Product A' ... b'5143' b'16617'\n",
      "  b'Finished Payment']\n",
      " [b'1042' b'LoanID_1042' b'Product B' ... b'3462' b'15617'\n",
      "  b'Finished Payment']\n",
      " [b'1043' b'LoanID_1043' b'Product A' ... b'4743' b'16617'\n",
      "  b'Finished Payment']]\n"
     ]
    },
    {
     "name": "stderr",
     "output_type": "stream",
     "text": [
      "C:\\Users\\Tushar\\AppData\\Local\\Temp\\ipykernel_10204\\1366719838.py:1: DeprecationWarning: `np.object` is a deprecated alias for the builtin `object`. To silence this warning, use `object` by itself. Doing this will not modify any behavior and is safe. \n",
      "Deprecated in NumPy 1.20; for more details and guidance: https://numpy.org/devdocs/release/1.20.0-notes.html#deprecations\n",
      "  lendingFile = np.genfromtxt(\"Lending-company.csv\",delimiter=\",\", dtype=np.object)\n"
     ]
    }
   ],
   "source": [
    "lendingFile = np.genfromtxt(\"Lending-company.csv\",delimiter=\",\", dtype=np.object)\n",
    "\n",
    "print(lendingFile)"
   ]
  },
  {
   "cell_type": "code",
   "execution_count": 51,
   "id": "0f3a4c06",
   "metadata": {},
   "outputs": [
    {
     "name": "stdout",
     "output_type": "stream",
     "text": [
      "[(      nan, '', '', '', '', '', '', '')\n",
      " (1.000e+00, '', '', '', '', '', '', '')\n",
      " (2.000e+00, '', '', '', '', '', '', '') ...\n",
      " (1.041e+03, '', '', '', '', '', '', '')\n",
      " (1.042e+03, '', '', '', '', '', '', '')\n",
      " (1.043e+03, '', '', '', '', '', '', '')]\n"
     ]
    },
    {
     "name": "stderr",
     "output_type": "stream",
     "text": [
      "C:\\Users\\Tushar\\AppData\\Local\\Temp\\ipykernel_10204\\3658592924.py:2: DeprecationWarning: `np.float` is a deprecated alias for the builtin `float`. To silence this warning, use `float` by itself. Doing this will not modify any behavior and is safe. If you specifically wanted the numpy scalar type, use `np.float64` here.\n",
      "Deprecated in NumPy 1.20; for more details and guidance: https://numpy.org/devdocs/release/1.20.0-notes.html#deprecations\n",
      "  dtype=(np.float, np.str,np.str,np.str,np.str,np.str,np.str,np.str   ))\n",
      "C:\\Users\\Tushar\\AppData\\Local\\Temp\\ipykernel_10204\\3658592924.py:2: DeprecationWarning: `np.str` is a deprecated alias for the builtin `str`. To silence this warning, use `str` by itself. Doing this will not modify any behavior and is safe. If you specifically wanted the numpy scalar type, use `np.str_` here.\n",
      "Deprecated in NumPy 1.20; for more details and guidance: https://numpy.org/devdocs/release/1.20.0-notes.html#deprecations\n",
      "  dtype=(np.float, np.str,np.str,np.str,np.str,np.str,np.str,np.str   ))\n"
     ]
    }
   ],
   "source": [
    "lendingFile = np.genfromtxt(\"Lending-company.csv\",delimiter=\",\", \n",
    "                            dtype=(np.float, np.str,np.str,np.str,np.str,np.str,np.str,np.str   ))\n",
    "\n",
    "print(lendingFile)"
   ]
  },
  {
   "cell_type": "code",
   "execution_count": 52,
   "id": "1e9d90f8",
   "metadata": {},
   "outputs": [
    {
     "name": "stdout",
     "output_type": "stream",
     "text": [
      "[[       nan        nan        nan ...        nan        nan        nan]\n",
      " [1.0000e+00        nan        nan ... 4.1660e+03 1.4621e+04        nan]\n",
      " [2.0000e+00        nan        nan ... 4.0960e+03 1.6041e+04        nan]\n",
      " ...\n",
      " [1.0410e+03        nan        nan ... 5.1430e+03 1.6617e+04        nan]\n",
      " [1.0420e+03        nan        nan ... 3.4620e+03 1.5617e+04        nan]\n",
      " [1.0430e+03        nan        nan ... 4.7430e+03 1.6617e+04        nan]]\n"
     ]
    }
   ],
   "source": [
    "lendingFile = np.genfromtxt(\"Lending-company.csv\",delimiter=\",\")\n",
    "\n",
    "print(lendingFile)"
   ]
  },
  {
   "cell_type": "code",
   "execution_count": 53,
   "id": "7d82c699",
   "metadata": {},
   "outputs": [
    {
     "data": {
      "text/plain": [
       "array([[ True,  True,  True, ...,  True,  True,  True],\n",
       "       [False,  True,  True, ..., False, False,  True],\n",
       "       [False,  True,  True, ..., False, False,  True],\n",
       "       ...,\n",
       "       [False,  True,  True, ..., False, False,  True],\n",
       "       [False,  True,  True, ..., False, False,  True],\n",
       "       [False,  True,  True, ..., False, False,  True]])"
      ]
     },
     "execution_count": 53,
     "metadata": {},
     "output_type": "execute_result"
    }
   ],
   "source": [
    "np.isnan(lendingFile)"
   ]
  },
  {
   "cell_type": "code",
   "execution_count": 54,
   "id": "6a013bdf",
   "metadata": {},
   "outputs": [],
   "source": [
    "# Lending-company-Numeric.csv\n",
    "\n",
    "lending_NumbericFile = np.genfromtxt(\"Lending-company-Numeric.csv\",delimiter=\",\")"
   ]
  },
  {
   "cell_type": "code",
   "execution_count": 55,
   "id": "93e831c8",
   "metadata": {},
   "outputs": [
    {
     "name": "stdout",
     "output_type": "stream",
     "text": [
      "[[ 2000.    40.   365.  3121.  4241. 13621.]\n",
      " [ 2000.    40.   365.  3061.  4171. 15041.]\n",
      " [ 1000.    40.   365.  2160.  3280. 15340.]\n",
      " ...\n",
      " [ 2000.    40.   365.  4201.  5001. 16600.]\n",
      " [ 1000.    40.   365.  2080.  3320. 15600.]\n",
      " [ 2000.    40.   365.  4601.  4601. 16600.]]\n"
     ]
    }
   ],
   "source": [
    "print(lending_NumbericFile)"
   ]
  },
  {
   "cell_type": "code",
   "execution_count": 64,
   "id": "d223370a",
   "metadata": {},
   "outputs": [
    {
     "data": {
      "text/plain": [
       "0"
      ]
     },
     "execution_count": 64,
     "metadata": {},
     "output_type": "execute_result"
    }
   ],
   "source": [
    "np.isnan(lending_NumbericFile).sum()"
   ]
  },
  {
   "cell_type": "code",
   "execution_count": 61,
   "id": "ecf187a1",
   "metadata": {},
   "outputs": [],
   "source": [
    "a1 = np.array([False,True,True,True])"
   ]
  },
  {
   "cell_type": "code",
   "execution_count": 62,
   "id": "d4dc692e",
   "metadata": {},
   "outputs": [
    {
     "data": {
      "text/plain": [
       "3"
      ]
     },
     "execution_count": 62,
     "metadata": {},
     "output_type": "execute_result"
    }
   ],
   "source": [
    "a1.sum()"
   ]
  },
  {
   "cell_type": "code",
   "execution_count": 63,
   "id": "96d4132c",
   "metadata": {},
   "outputs": [
    {
     "data": {
      "text/plain": [
       "array([False,  True,  True,  True])"
      ]
     },
     "execution_count": 63,
     "metadata": {},
     "output_type": "execute_result"
    }
   ],
   "source": [
    "#  false=0 , true=1\n",
    "a1"
   ]
  },
  {
   "cell_type": "code",
   "execution_count": 72,
   "id": "bf71ec28",
   "metadata": {},
   "outputs": [],
   "source": [
    "# Lending-company-Numeric-NAN.csv\n",
    "\n",
    "lending_NumbericFile_nan = np.genfromtxt(\"Lending-company-Numeric-NAN.csv\",delimiter=\";\",\n",
    "                                        filling_values=0)"
   ]
  },
  {
   "cell_type": "code",
   "execution_count": 73,
   "id": "9e1da9ae",
   "metadata": {},
   "outputs": [
    {
     "data": {
      "text/plain": [
       "array([[ 2000.,    40.,   365.,  3121.,  4241., 13621.],\n",
       "       [ 2000.,    40.,   365.,  3061.,  4171., 15041.],\n",
       "       [ 1000.,    40.,   365.,  2160.,  3280., 15340.],\n",
       "       ...,\n",
       "       [    0.,    40.,   365.,  4201.,  5001., 16600.],\n",
       "       [ 1000.,    40.,   365.,  2080.,  3320., 15600.],\n",
       "       [ 2000.,    40.,   365.,  4601.,  4601., 16600.]])"
      ]
     },
     "execution_count": 73,
     "metadata": {},
     "output_type": "execute_result"
    }
   ],
   "source": [
    "lending_NumbericFile_nan"
   ]
  },
  {
   "cell_type": "code",
   "execution_count": 74,
   "id": "a3e47daf",
   "metadata": {},
   "outputs": [
    {
     "data": {
      "text/plain": [
       "0"
      ]
     },
     "execution_count": 74,
     "metadata": {},
     "output_type": "execute_result"
    }
   ],
   "source": [
    "np.isnan(lending_NumbericFile_nan).sum()"
   ]
  },
  {
   "cell_type": "code",
   "execution_count": 84,
   "id": "f63d0e1b",
   "metadata": {},
   "outputs": [],
   "source": [
    "# User=> 1,  user=0 ( NAN => 0)\n",
    "\n",
    "#  prefer to change nan => mean or more than the maximum\n",
    "\n",
    "array1=np.array([[2,3,4],[5,6,7],[8,9,20]])"
   ]
  },
  {
   "cell_type": "code",
   "execution_count": 76,
   "id": "d12946ea",
   "metadata": {},
   "outputs": [
    {
     "data": {
      "text/plain": [
       "array([[ 2,  3,  4],\n",
       "       [ 5,  6,  7],\n",
       "       [ 8,  9, 20]])"
      ]
     },
     "execution_count": 76,
     "metadata": {},
     "output_type": "execute_result"
    }
   ],
   "source": [
    "array1"
   ]
  },
  {
   "cell_type": "code",
   "execution_count": 78,
   "id": "2866b1f4",
   "metadata": {},
   "outputs": [
    {
     "data": {
      "text/plain": [
       "array([ 5.        ,  6.        , 10.33333333])"
      ]
     },
     "execution_count": 78,
     "metadata": {},
     "output_type": "execute_result"
    }
   ],
   "source": [
    "np.mean(array1,axis=0)"
   ]
  },
  {
   "cell_type": "code",
   "execution_count": 79,
   "id": "e40c7404",
   "metadata": {},
   "outputs": [
    {
     "data": {
      "text/plain": [
       "array([ 3.        ,  6.        , 12.33333333])"
      ]
     },
     "execution_count": 79,
     "metadata": {},
     "output_type": "execute_result"
    }
   ],
   "source": [
    "np.mean(array1,axis=1)"
   ]
  },
  {
   "cell_type": "code",
   "execution_count": 80,
   "id": "e6894965",
   "metadata": {},
   "outputs": [],
   "source": [
    "\n",
    "\n",
    "import pandas as pd"
   ]
  },
  {
   "cell_type": "code",
   "execution_count": 81,
   "id": "963fe9d4",
   "metadata": {},
   "outputs": [
    {
     "data": {
      "text/html": [
       "<div>\n",
       "<style scoped>\n",
       "    .dataframe tbody tr th:only-of-type {\n",
       "        vertical-align: middle;\n",
       "    }\n",
       "\n",
       "    .dataframe tbody tr th {\n",
       "        vertical-align: top;\n",
       "    }\n",
       "\n",
       "    .dataframe thead th {\n",
       "        text-align: right;\n",
       "    }\n",
       "</style>\n",
       "<table border=\"1\" class=\"dataframe\">\n",
       "  <thead>\n",
       "    <tr style=\"text-align: right;\">\n",
       "      <th></th>\n",
       "      <th>0</th>\n",
       "    </tr>\n",
       "  </thead>\n",
       "  <tbody>\n",
       "    <tr>\n",
       "      <th>0</th>\n",
       "      <td>1</td>\n",
       "    </tr>\n",
       "    <tr>\n",
       "      <th>1</th>\n",
       "      <td>2</td>\n",
       "    </tr>\n",
       "    <tr>\n",
       "      <th>2</th>\n",
       "      <td>3</td>\n",
       "    </tr>\n",
       "  </tbody>\n",
       "</table>\n",
       "</div>"
      ],
      "text/plain": [
       "   0\n",
       "0  1\n",
       "1  2\n",
       "2  3"
      ]
     },
     "execution_count": 81,
     "metadata": {},
     "output_type": "execute_result"
    }
   ],
   "source": [
    "pd.DataFrame([1,2,3]).dropna()"
   ]
  },
  {
   "cell_type": "code",
   "execution_count": 92,
   "id": "1de9a38f",
   "metadata": {},
   "outputs": [],
   "source": [
    "\n",
    "lending_NumbericFile_nan = np.genfromtxt(\"Lending-company-Numeric-NAN.csv\",delimiter=\";\",\n",
    "                                       filling_values=meanLending)"
   ]
  },
  {
   "cell_type": "code",
   "execution_count": 90,
   "id": "466c69af",
   "metadata": {},
   "outputs": [],
   "source": [
    "meanLending = np.nanmean(lending_NumbericFile_nan, axis=0).round(2)[0]"
   ]
  },
  {
   "cell_type": "code",
   "execution_count": 91,
   "id": "d0b1f723",
   "metadata": {},
   "outputs": [
    {
     "data": {
      "text/plain": [
       "2250.25"
      ]
     },
     "execution_count": 91,
     "metadata": {},
     "output_type": "execute_result"
    }
   ],
   "source": [
    "# outlier\n",
    "meanLending"
   ]
  },
  {
   "cell_type": "code",
   "execution_count": 93,
   "id": "795bad6e",
   "metadata": {},
   "outputs": [
    {
     "data": {
      "text/plain": [
       "array([[ 2000.  ,    40.  ,   365.  ,  3121.  ,  4241.  , 13621.  ],\n",
       "       [ 2000.  ,    40.  ,   365.  ,  3061.  ,  4171.  , 15041.  ],\n",
       "       [ 1000.  ,    40.  ,   365.  ,  2160.  ,  3280.  , 15340.  ],\n",
       "       ...,\n",
       "       [ 2250.25,    40.  ,   365.  ,  4201.  ,  5001.  , 16600.  ],\n",
       "       [ 1000.  ,    40.  ,   365.  ,  2080.  ,  3320.  , 15600.  ],\n",
       "       [ 2000.  ,    40.  ,   365.  ,  4601.  ,  4601.  , 16600.  ]])"
      ]
     },
     "execution_count": 93,
     "metadata": {},
     "output_type": "execute_result"
    }
   ],
   "source": [
    "lending_NumbericFile_nan"
   ]
  },
  {
   "cell_type": "code",
   "execution_count": 94,
   "id": "6d88707b",
   "metadata": {},
   "outputs": [
    {
     "data": {
      "text/plain": [
       "4654.015659955257"
      ]
     },
     "execution_count": 94,
     "metadata": {},
     "output_type": "execute_result"
    }
   ],
   "source": [
    "np.nanmean(lending_NumbericFile_nan)"
   ]
  },
  {
   "cell_type": "code",
   "execution_count": null,
   "id": "0f5d23fa",
   "metadata": {},
   "outputs": [],
   "source": []
  }
 ],
 "metadata": {
  "kernelspec": {
   "display_name": "Python 3 (ipykernel)",
   "language": "python",
   "name": "python3"
  },
  "language_info": {
   "codemirror_mode": {
    "name": "ipython",
    "version": 3
   },
   "file_extension": ".py",
   "mimetype": "text/x-python",
   "name": "python",
   "nbconvert_exporter": "python",
   "pygments_lexer": "ipython3",
   "version": "3.8.10"
  }
 },
 "nbformat": 4,
 "nbformat_minor": 5
}
