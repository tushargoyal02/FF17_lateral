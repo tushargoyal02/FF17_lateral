{
 "cells": [
  {
   "cell_type": "code",
   "execution_count": 27,
   "id": "e6e8237f",
   "metadata": {},
   "outputs": [],
   "source": [
    "import pandas as pd\n",
    "import datetime as dt\n",
    "\n",
    "from pandas_datareader import data"
   ]
  },
  {
   "cell_type": "code",
   "execution_count": 28,
   "id": "acf02d2e",
   "metadata": {},
   "outputs": [],
   "source": [
    "stocks = data.DataReader(name=\"MSFT\", data_source=\"stooq\", start=\"2022-01-20\" , end=\"2023-01-01\")"
   ]
  },
  {
   "cell_type": "code",
   "execution_count": 31,
   "id": "e2404c09",
   "metadata": {},
   "outputs": [
    {
     "data": {
      "text/html": [
       "<div>\n",
       "<style scoped>\n",
       "    .dataframe tbody tr th:only-of-type {\n",
       "        vertical-align: middle;\n",
       "    }\n",
       "\n",
       "    .dataframe tbody tr th {\n",
       "        vertical-align: top;\n",
       "    }\n",
       "\n",
       "    .dataframe thead th {\n",
       "        text-align: right;\n",
       "    }\n",
       "</style>\n",
       "<table border=\"1\" class=\"dataframe\">\n",
       "  <thead>\n",
       "    <tr style=\"text-align: right;\">\n",
       "      <th></th>\n",
       "      <th>index</th>\n",
       "      <th>Date</th>\n",
       "      <th>Open</th>\n",
       "      <th>High</th>\n",
       "      <th>Low</th>\n",
       "      <th>Close</th>\n",
       "      <th>Volume</th>\n",
       "    </tr>\n",
       "  </thead>\n",
       "  <tbody>\n",
       "    <tr>\n",
       "      <th>0</th>\n",
       "      <td>0</td>\n",
       "      <td>2022-12-30</td>\n",
       "      <td>238.210</td>\n",
       "      <td>239.960</td>\n",
       "      <td>236.6600</td>\n",
       "      <td>239.820</td>\n",
       "      <td>2.193847e+07</td>\n",
       "    </tr>\n",
       "    <tr>\n",
       "      <th>1</th>\n",
       "      <td>1</td>\n",
       "      <td>2022-12-29</td>\n",
       "      <td>235.650</td>\n",
       "      <td>241.920</td>\n",
       "      <td>235.6500</td>\n",
       "      <td>241.010</td>\n",
       "      <td>1.977069e+07</td>\n",
       "    </tr>\n",
       "    <tr>\n",
       "      <th>2</th>\n",
       "      <td>2</td>\n",
       "      <td>2022-12-28</td>\n",
       "      <td>236.890</td>\n",
       "      <td>239.720</td>\n",
       "      <td>234.1700</td>\n",
       "      <td>234.530</td>\n",
       "      <td>1.745710e+07</td>\n",
       "    </tr>\n",
       "    <tr>\n",
       "      <th>3</th>\n",
       "      <td>3</td>\n",
       "      <td>2022-12-27</td>\n",
       "      <td>238.700</td>\n",
       "      <td>238.930</td>\n",
       "      <td>235.8300</td>\n",
       "      <td>236.960</td>\n",
       "      <td>1.668865e+07</td>\n",
       "    </tr>\n",
       "    <tr>\n",
       "      <th>4</th>\n",
       "      <td>4</td>\n",
       "      <td>2022-12-23</td>\n",
       "      <td>236.110</td>\n",
       "      <td>238.870</td>\n",
       "      <td>233.9428</td>\n",
       "      <td>238.730</td>\n",
       "      <td>2.120698e+07</td>\n",
       "    </tr>\n",
       "    <tr>\n",
       "      <th>...</th>\n",
       "      <td>...</td>\n",
       "      <td>...</td>\n",
       "      <td>...</td>\n",
       "      <td>...</td>\n",
       "      <td>...</td>\n",
       "      <td>...</td>\n",
       "      <td>...</td>\n",
       "    </tr>\n",
       "    <tr>\n",
       "      <th>234</th>\n",
       "      <td>234</td>\n",
       "      <td>2022-01-26</td>\n",
       "      <td>305.127</td>\n",
       "      <td>305.633</td>\n",
       "      <td>290.3140</td>\n",
       "      <td>293.958</td>\n",
       "      <td>9.127619e+07</td>\n",
       "    </tr>\n",
       "    <tr>\n",
       "      <th>235</th>\n",
       "      <td>235</td>\n",
       "      <td>2022-01-25</td>\n",
       "      <td>288.815</td>\n",
       "      <td>292.250</td>\n",
       "      <td>282.5220</td>\n",
       "      <td>285.808</td>\n",
       "      <td>7.353124e+07</td>\n",
       "    </tr>\n",
       "    <tr>\n",
       "      <th>236</th>\n",
       "      <td>236</td>\n",
       "      <td>2022-01-24</td>\n",
       "      <td>289.490</td>\n",
       "      <td>294.354</td>\n",
       "      <td>273.4870</td>\n",
       "      <td>293.621</td>\n",
       "      <td>8.684156e+07</td>\n",
       "    </tr>\n",
       "    <tr>\n",
       "      <th>237</th>\n",
       "      <td>237</td>\n",
       "      <td>2022-01-21</td>\n",
       "      <td>299.875</td>\n",
       "      <td>301.285</td>\n",
       "      <td>292.8670</td>\n",
       "      <td>293.283</td>\n",
       "      <td>5.852773e+07</td>\n",
       "    </tr>\n",
       "    <tr>\n",
       "      <th>238</th>\n",
       "      <td>238</td>\n",
       "      <td>2022-01-20</td>\n",
       "      <td>306.198</td>\n",
       "      <td>308.760</td>\n",
       "      <td>298.3460</td>\n",
       "      <td>298.803</td>\n",
       "      <td>3.571220e+07</td>\n",
       "    </tr>\n",
       "  </tbody>\n",
       "</table>\n",
       "<p>239 rows × 7 columns</p>\n",
       "</div>"
      ],
      "text/plain": [
       "     index       Date     Open     High       Low    Close        Volume\n",
       "0        0 2022-12-30  238.210  239.960  236.6600  239.820  2.193847e+07\n",
       "1        1 2022-12-29  235.650  241.920  235.6500  241.010  1.977069e+07\n",
       "2        2 2022-12-28  236.890  239.720  234.1700  234.530  1.745710e+07\n",
       "3        3 2022-12-27  238.700  238.930  235.8300  236.960  1.668865e+07\n",
       "4        4 2022-12-23  236.110  238.870  233.9428  238.730  2.120698e+07\n",
       "..     ...        ...      ...      ...       ...      ...           ...\n",
       "234    234 2022-01-26  305.127  305.633  290.3140  293.958  9.127619e+07\n",
       "235    235 2022-01-25  288.815  292.250  282.5220  285.808  7.353124e+07\n",
       "236    236 2022-01-24  289.490  294.354  273.4870  293.621  8.684156e+07\n",
       "237    237 2022-01-21  299.875  301.285  292.8670  293.283  5.852773e+07\n",
       "238    238 2022-01-20  306.198  308.760  298.3460  298.803  3.571220e+07\n",
       "\n",
       "[239 rows x 7 columns]"
      ]
     },
     "execution_count": 31,
     "metadata": {},
     "output_type": "execute_result"
    }
   ],
   "source": [
    "s= stocks.index\n",
    "\n",
    "\n",
    "stocks.reset_index(inplace=True)\n",
    "\n",
    "stocks[\"Date\"].dt.year\n",
    "\n",
    "\n",
    "stocks"
   ]
  },
  {
   "cell_type": "code",
   "execution_count": 35,
   "id": "7a02fc0f",
   "metadata": {},
   "outputs": [
    {
     "data": {
      "text/plain": [
       "0      12\n",
       "1      12\n",
       "2      12\n",
       "3      12\n",
       "4      12\n",
       "       ..\n",
       "234     1\n",
       "235     1\n",
       "236     1\n",
       "237     1\n",
       "238     1\n",
       "Name: Date, Length: 239, dtype: int64"
      ]
     },
     "execution_count": 35,
     "metadata": {},
     "output_type": "execute_result"
    }
   ],
   "source": [
    "stocks[\"Date\"].dt.month"
   ]
  },
  {
   "cell_type": "code",
   "execution_count": 13,
   "id": "7a056fa8",
   "metadata": {},
   "outputs": [
    {
     "data": {
      "text/html": [
       "<div>\n",
       "<style scoped>\n",
       "    .dataframe tbody tr th:only-of-type {\n",
       "        vertical-align: middle;\n",
       "    }\n",
       "\n",
       "    .dataframe tbody tr th {\n",
       "        vertical-align: top;\n",
       "    }\n",
       "\n",
       "    .dataframe thead th {\n",
       "        text-align: right;\n",
       "    }\n",
       "</style>\n",
       "<table border=\"1\" class=\"dataframe\">\n",
       "  <thead>\n",
       "    <tr style=\"text-align: right;\">\n",
       "      <th></th>\n",
       "      <th>Open</th>\n",
       "      <th>High</th>\n",
       "      <th>Low</th>\n",
       "      <th>Close</th>\n",
       "      <th>Volume</th>\n",
       "    </tr>\n",
       "    <tr>\n",
       "      <th>Date</th>\n",
       "      <th></th>\n",
       "      <th></th>\n",
       "      <th></th>\n",
       "      <th></th>\n",
       "      <th></th>\n",
       "    </tr>\n",
       "  </thead>\n",
       "  <tbody>\n",
       "    <tr>\n",
       "      <th>2022-12-30</th>\n",
       "      <td>238.210</td>\n",
       "      <td>239.960</td>\n",
       "      <td>236.6600</td>\n",
       "      <td>239.820</td>\n",
       "      <td>2.193847e+07</td>\n",
       "    </tr>\n",
       "    <tr>\n",
       "      <th>2022-12-29</th>\n",
       "      <td>235.650</td>\n",
       "      <td>241.920</td>\n",
       "      <td>235.6500</td>\n",
       "      <td>241.010</td>\n",
       "      <td>1.977069e+07</td>\n",
       "    </tr>\n",
       "    <tr>\n",
       "      <th>2022-12-28</th>\n",
       "      <td>236.890</td>\n",
       "      <td>239.720</td>\n",
       "      <td>234.1700</td>\n",
       "      <td>234.530</td>\n",
       "      <td>1.745710e+07</td>\n",
       "    </tr>\n",
       "    <tr>\n",
       "      <th>2022-12-27</th>\n",
       "      <td>238.700</td>\n",
       "      <td>238.930</td>\n",
       "      <td>235.8300</td>\n",
       "      <td>236.960</td>\n",
       "      <td>1.668865e+07</td>\n",
       "    </tr>\n",
       "    <tr>\n",
       "      <th>2022-12-23</th>\n",
       "      <td>236.110</td>\n",
       "      <td>238.870</td>\n",
       "      <td>233.9428</td>\n",
       "      <td>238.730</td>\n",
       "      <td>2.120698e+07</td>\n",
       "    </tr>\n",
       "    <tr>\n",
       "      <th>...</th>\n",
       "      <td>...</td>\n",
       "      <td>...</td>\n",
       "      <td>...</td>\n",
       "      <td>...</td>\n",
       "      <td>...</td>\n",
       "    </tr>\n",
       "    <tr>\n",
       "      <th>2022-01-26</th>\n",
       "      <td>305.127</td>\n",
       "      <td>305.633</td>\n",
       "      <td>290.3140</td>\n",
       "      <td>293.958</td>\n",
       "      <td>9.127619e+07</td>\n",
       "    </tr>\n",
       "    <tr>\n",
       "      <th>2022-01-25</th>\n",
       "      <td>288.815</td>\n",
       "      <td>292.250</td>\n",
       "      <td>282.5220</td>\n",
       "      <td>285.808</td>\n",
       "      <td>7.353124e+07</td>\n",
       "    </tr>\n",
       "    <tr>\n",
       "      <th>2022-01-24</th>\n",
       "      <td>289.490</td>\n",
       "      <td>294.354</td>\n",
       "      <td>273.4870</td>\n",
       "      <td>293.621</td>\n",
       "      <td>8.684156e+07</td>\n",
       "    </tr>\n",
       "    <tr>\n",
       "      <th>2022-01-21</th>\n",
       "      <td>299.875</td>\n",
       "      <td>301.285</td>\n",
       "      <td>292.8670</td>\n",
       "      <td>293.283</td>\n",
       "      <td>5.852773e+07</td>\n",
       "    </tr>\n",
       "    <tr>\n",
       "      <th>2022-01-20</th>\n",
       "      <td>306.198</td>\n",
       "      <td>308.760</td>\n",
       "      <td>298.3460</td>\n",
       "      <td>298.803</td>\n",
       "      <td>3.571220e+07</td>\n",
       "    </tr>\n",
       "  </tbody>\n",
       "</table>\n",
       "<p>239 rows × 5 columns</p>\n",
       "</div>"
      ],
      "text/plain": [
       "               Open     High       Low    Close        Volume\n",
       "Date                                                         \n",
       "2022-12-30  238.210  239.960  236.6600  239.820  2.193847e+07\n",
       "2022-12-29  235.650  241.920  235.6500  241.010  1.977069e+07\n",
       "2022-12-28  236.890  239.720  234.1700  234.530  1.745710e+07\n",
       "2022-12-27  238.700  238.930  235.8300  236.960  1.668865e+07\n",
       "2022-12-23  236.110  238.870  233.9428  238.730  2.120698e+07\n",
       "...             ...      ...       ...      ...           ...\n",
       "2022-01-26  305.127  305.633  290.3140  293.958  9.127619e+07\n",
       "2022-01-25  288.815  292.250  282.5220  285.808  7.353124e+07\n",
       "2022-01-24  289.490  294.354  273.4870  293.621  8.684156e+07\n",
       "2022-01-21  299.875  301.285  292.8670  293.283  5.852773e+07\n",
       "2022-01-20  306.198  308.760  298.3460  298.803  3.571220e+07\n",
       "\n",
       "[239 rows x 5 columns]"
      ]
     },
     "execution_count": 13,
     "metadata": {},
     "output_type": "execute_result"
    }
   ],
   "source": [
    "stocks"
   ]
  },
  {
   "cell_type": "code",
   "execution_count": 3,
   "id": "1b805fe6",
   "metadata": {},
   "outputs": [
    {
     "data": {
      "text/plain": [
       "array([[2.38210000e+02, 2.39960000e+02, 2.36660000e+02, 2.39820000e+02,\n",
       "        2.19384720e+07],\n",
       "       [2.35650000e+02, 2.41920000e+02, 2.35650000e+02, 2.41010000e+02,\n",
       "        1.97706930e+07],\n",
       "       [2.36890000e+02, 2.39720000e+02, 2.34170000e+02, 2.34530000e+02,\n",
       "        1.74571040e+07],\n",
       "       ...,\n",
       "       [3.22837000e+02, 3.23046000e+02, 3.13049000e+02, 3.13446000e+02,\n",
       "        4.04296424e+07],\n",
       "       [3.31723000e+02, 3.32090000e+02, 3.23095000e+02, 3.25954000e+02,\n",
       "        3.29804700e+07],\n",
       "       [3.32239000e+02, 3.34859000e+02, 3.26719000e+02, 3.31643000e+02,\n",
       "        2.91889798e+07]])"
      ]
     },
     "execution_count": 3,
     "metadata": {},
     "output_type": "execute_result"
    }
   ],
   "source": [
    "stocks.values"
   ]
  },
  {
   "cell_type": "code",
   "execution_count": 9,
   "id": "5e06dfb6",
   "metadata": {},
   "outputs": [
    {
     "data": {
      "text/plain": [
       "DatetimeIndex(['2022-12-30', '2022-12-29', '2022-12-28', '2022-12-27',\n",
       "               '2022-12-23', '2022-12-22', '2022-12-21', '2022-12-20',\n",
       "               '2022-12-19', '2022-12-16',\n",
       "               ...\n",
       "               '2022-01-14', '2022-01-13', '2022-01-12', '2022-01-11',\n",
       "               '2022-01-10', '2022-01-07', '2022-01-06', '2022-01-05',\n",
       "               '2022-01-04', '2022-01-03'],\n",
       "              dtype='datetime64[ns]', name='Date', length=251, freq=None)"
      ]
     },
     "execution_count": 9,
     "metadata": {},
     "output_type": "execute_result"
    }
   ],
   "source": [
    "stocks.index"
   ]
  },
  {
   "cell_type": "code",
   "execution_count": 8,
   "id": "b9feb806",
   "metadata": {},
   "outputs": [
    {
     "data": {
      "text/plain": [
       "Timestamp('2022-02-15 00:00:00')"
      ]
     },
     "execution_count": 8,
     "metadata": {},
     "output_type": "execute_result"
    }
   ],
   "source": [
    "time1= pd.Timestamp('2022-02-15')\n",
    "time1"
   ]
  },
  {
   "cell_type": "code",
   "execution_count": 6,
   "id": "4d68e5ea",
   "metadata": {},
   "outputs": [],
   "source": [
    "time2= pd.Timestamp('2022-02-17')"
   ]
  },
  {
   "cell_type": "code",
   "execution_count": 7,
   "id": "bca3d035",
   "metadata": {},
   "outputs": [
    {
     "data": {
      "text/plain": [
       "Timedelta('-2 days +00:00:00')"
      ]
     },
     "execution_count": 7,
     "metadata": {},
     "output_type": "execute_result"
    }
   ],
   "source": [
    "time1-time2"
   ]
  },
  {
   "cell_type": "code",
   "execution_count": 10,
   "id": "39792ed6",
   "metadata": {},
   "outputs": [
    {
     "ename": "TypeError",
     "evalue": "Addition/subtraction of integers and integer-arrays with Timestamp is no longer supported.  Instead of adding/subtracting `n`, use `n * obj.freq`",
     "output_type": "error",
     "traceback": [
      "\u001b[1;31m---------------------------------------------------------------------------\u001b[0m",
      "\u001b[1;31mTypeError\u001b[0m                                 Traceback (most recent call last)",
      "Cell \u001b[1;32mIn [10], line 1\u001b[0m\n\u001b[1;32m----> 1\u001b[0m \u001b[43mtime1\u001b[49m\u001b[43m \u001b[49m\u001b[38;5;241;43m+\u001b[39;49m\u001b[43m \u001b[49m\u001b[38;5;241;43m3\u001b[39;49m\n",
      "File \u001b[1;32mc:\\users\\tushar\\appdata\\local\\programs\\python\\python38\\lib\\site-packages\\pandas\\_libs\\tslibs\\timestamps.pyx:499\u001b[0m, in \u001b[0;36mpandas._libs.tslibs.timestamps._Timestamp.__add__\u001b[1;34m()\u001b[0m\n",
      "\u001b[1;31mTypeError\u001b[0m: Addition/subtraction of integers and integer-arrays with Timestamp is no longer supported.  Instead of adding/subtracting `n`, use `n * obj.freq`"
     ]
    }
   ],
   "source": [
    "time1 + 3"
   ]
  },
  {
   "cell_type": "code",
   "execution_count": 49,
   "id": "c4dacd20",
   "metadata": {},
   "outputs": [
    {
     "data": {
      "text/plain": [
       "Timestamp('2022-10-12 00:00:00')"
      ]
     },
     "execution_count": 49,
     "metadata": {},
     "output_type": "execute_result"
    }
   ],
   "source": [
    "time1 = pd.Timestamp(2022,10,12)\n",
    "\n",
    "time1\n",
    "# pd.Timedelta(days=2)"
   ]
  },
  {
   "cell_type": "code",
   "execution_count": 50,
   "id": "a5d03503",
   "metadata": {},
   "outputs": [
    {
     "data": {
      "text/plain": [
       "Timestamp('2022-10-29 00:00:00')"
      ]
     },
     "execution_count": 50,
     "metadata": {},
     "output_type": "execute_result"
    }
   ],
   "source": [
    "time2 = pd.Timestamp(2022,10,29)\n",
    "\n",
    "time2"
   ]
  },
  {
   "cell_type": "code",
   "execution_count": 51,
   "id": "149fec6b",
   "metadata": {},
   "outputs": [
    {
     "data": {
      "text/plain": [
       "Timedelta('17 days 00:00:00')"
      ]
     },
     "execution_count": 51,
     "metadata": {},
     "output_type": "execute_result"
    }
   ],
   "source": [
    "\n",
    "time2-time1"
   ]
  },
  {
   "cell_type": "code",
   "execution_count": 53,
   "id": "13106484",
   "metadata": {},
   "outputs": [],
   "source": [
    "s=pd.Series( ['2018-01-05', '7/8/1952', 'Oct 10, 1995'])\n",
    "s=pd.to_datetime(s,errors=\"coerce\")"
   ]
  },
  {
   "cell_type": "code",
   "execution_count": 59,
   "id": "4f9a5d3c",
   "metadata": {},
   "outputs": [
    {
     "data": {
      "text/plain": [
       "0   2018-01-05\n",
       "1   1952-07-08\n",
       "2   1995-10-10\n",
       "dtype: datetime64[ns]"
      ]
     },
     "execution_count": 59,
     "metadata": {},
     "output_type": "execute_result"
    }
   ],
   "source": [
    "s"
   ]
  },
  {
   "cell_type": "code",
   "execution_count": 61,
   "id": "443c0c45",
   "metadata": {},
   "outputs": [
    {
     "data": {
      "text/plain": [
       "0   2018-01-10\n",
       "1   1952-07-13\n",
       "2   1995-10-15\n",
       "dtype: datetime64[ns]"
      ]
     },
     "execution_count": 61,
     "metadata": {},
     "output_type": "execute_result"
    }
   ],
   "source": [
    "s + pd.Timedelta(5,unit=\"D\",)"
   ]
  },
  {
   "cell_type": "code",
   "execution_count": null,
   "id": "ec36c719",
   "metadata": {},
   "outputs": [],
   "source": []
  }
 ],
 "metadata": {
  "kernelspec": {
   "display_name": "Python 3 (ipykernel)",
   "language": "python",
   "name": "python3"
  },
  "language_info": {
   "codemirror_mode": {
    "name": "ipython",
    "version": 3
   },
   "file_extension": ".py",
   "mimetype": "text/x-python",
   "name": "python",
   "nbconvert_exporter": "python",
   "pygments_lexer": "ipython3",
   "version": "3.8.10"
  }
 },
 "nbformat": 4,
 "nbformat_minor": 5
}
