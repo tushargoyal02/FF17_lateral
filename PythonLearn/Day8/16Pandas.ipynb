{
 "cells": [
  {
   "cell_type": "code",
   "execution_count": 1,
   "id": "3a29ce66",
   "metadata": {},
   "outputs": [],
   "source": [
    "#  numpy => do manipulation\n",
    "#  stepwise slicing, base slicing\n",
    "#  broadcasting \n",
    "# Object, number, string\n",
    "\n",
    "#  pandas => dataframe, series\n",
    "\n",
    "#  series => dataframe"
   ]
  },
  {
   "cell_type": "markdown",
   "id": "bd8f66f1",
   "metadata": {},
   "source": [
    "## hey\n"
   ]
  },
  {
   "cell_type": "code",
   "execution_count": 2,
   "id": "586632cf",
   "metadata": {},
   "outputs": [],
   "source": [
    "import pandas as pd"
   ]
  },
  {
   "cell_type": "code",
   "execution_count": 5,
   "id": "fb665b8f",
   "metadata": {},
   "outputs": [],
   "source": [
    "pokemonSeries = pd.read_csv(\"pokemon_data.csv\", index_col=\"Pokemon\").squeeze()"
   ]
  },
  {
   "cell_type": "code",
   "execution_count": 7,
   "id": "5c95dcec",
   "metadata": {},
   "outputs": [
    {
     "data": {
      "text/plain": [
       "Index(['Bulbasaur', 'Ivysaur', 'Venusaur', 'Charmander', 'Charmeleon',\n",
       "       'Charizard', 'Squirtle', 'Wartortle', 'Blastoise', 'Caterpie',\n",
       "       ...\n",
       "       'Bergmite', 'Avalugg', 'Noibat', 'Noivern', 'Xerneas', 'Yveltal',\n",
       "       'Zygarde', 'Diancie', 'Hoopa', 'Volcanion'],\n",
       "      dtype='object', name='Pokemon', length=721)"
      ]
     },
     "execution_count": 7,
     "metadata": {},
     "output_type": "execute_result"
    }
   ],
   "source": [
    "pokemonSeries.index"
   ]
  },
  {
   "cell_type": "code",
   "execution_count": 8,
   "id": "fe06fb00",
   "metadata": {},
   "outputs": [
    {
     "data": {
      "text/plain": [
       "array(['Grass', 'Grass', 'Grass', 'Fire', 'Fire', 'Fire', 'Water',\n",
       "       'Water', 'Water', 'Bug', 'Bug', 'Bug', 'Bug', 'Bug', 'Bug',\n",
       "       'Normal', 'Normal', 'Normal', 'Normal', 'Normal', 'Normal',\n",
       "       'Normal', 'Poison', 'Poison', 'Electric', 'Electric', 'Ground',\n",
       "       'Ground', 'Poison', 'Poison', 'Poison', 'Poison', 'Poison',\n",
       "       'Poison', 'Fairy', 'Fairy', 'Fire', 'Fire', 'Normal', 'Normal',\n",
       "       'Poison', 'Poison', 'Grass', 'Grass', 'Grass', 'Bug', 'Bug', 'Bug',\n",
       "       'Bug', 'Ground', 'Ground', 'Normal', 'Normal', 'Water', 'Water',\n",
       "       'Fighting', 'Fighting', 'Fire', 'Fire', 'Water', 'Water', 'Water',\n",
       "       'Psychic', 'Psychic', 'Psychic', 'Fighting', 'Fighting',\n",
       "       'Fighting', 'Grass', 'Grass', 'Grass', 'Water', 'Water', 'Rock',\n",
       "       'Rock', 'Rock', 'Fire', 'Fire', 'Water', 'Water', 'Electric',\n",
       "       'Electric', 'Normal', 'Normal', 'Normal', 'Water', 'Water',\n",
       "       'Poison', 'Poison', 'Water', 'Water', 'Ghost', 'Ghost', 'Ghost',\n",
       "       'Rock', 'Psychic', 'Psychic', 'Water', 'Water', 'Electric',\n",
       "       'Electric', 'Grass', 'Grass', 'Ground', 'Ground', 'Fighting',\n",
       "       'Fighting', 'Normal', 'Poison', 'Poison', 'Ground', 'Ground',\n",
       "       'Normal', 'Grass', 'Normal', 'Water', 'Water', 'Water', 'Water',\n",
       "       'Water', 'Water', 'Psychic', 'Bug', 'Ice', 'Electric', 'Fire',\n",
       "       'Bug', 'Normal', 'Water', 'Water', 'Water', 'Normal', 'Normal',\n",
       "       'Water', 'Electric', 'Fire', 'Normal', 'Rock', 'Rock', 'Rock',\n",
       "       'Rock', 'Rock', 'Normal', 'Ice', 'Electric', 'Fire', 'Dragon',\n",
       "       'Dragon', 'Dragon', 'Psychic', 'Psychic', 'Grass', 'Grass',\n",
       "       'Grass', 'Fire', 'Fire', 'Fire', 'Water', 'Water', 'Water',\n",
       "       'Normal', 'Normal', 'Normal', 'Normal', 'Bug', 'Bug', 'Bug', 'Bug',\n",
       "       'Poison', 'Water', 'Water', 'Electric', 'Fairy', 'Normal', 'Fairy',\n",
       "       'Fairy', 'Psychic', 'Psychic', 'Electric', 'Electric', 'Electric',\n",
       "       'Grass', 'Water', 'Water', 'Rock', 'Water', 'Grass', 'Grass',\n",
       "       'Grass', 'Normal', 'Grass', 'Grass', 'Bug', 'Water', 'Water',\n",
       "       'Psychic', 'Dark', 'Dark', 'Water', 'Ghost', 'Psychic', 'Psychic',\n",
       "       'Normal', 'Bug', 'Bug', 'Normal', 'Ground', 'Steel', 'Fairy',\n",
       "       'Fairy', 'Water', 'Bug', 'Bug', 'Bug', 'Dark', 'Normal', 'Normal',\n",
       "       'Fire', 'Fire', 'Ice', 'Ice', 'Water', 'Water', 'Water', 'Ice',\n",
       "       'Water', 'Steel', 'Dark', 'Dark', 'Water', 'Ground', 'Ground',\n",
       "       'Normal', 'Normal', 'Normal', 'Fighting', 'Fighting', 'Ice',\n",
       "       'Electric', 'Fire', 'Normal', 'Normal', 'Electric', 'Fire',\n",
       "       'Water', 'Rock', 'Rock', 'Rock', 'Psychic', 'Fire', 'Psychic',\n",
       "       'Grass', 'Grass', 'Grass', 'Fire', 'Fire', 'Fire', 'Water',\n",
       "       'Water', 'Water', 'Dark', 'Dark', 'Normal', 'Normal', 'Bug', 'Bug',\n",
       "       'Bug', 'Bug', 'Bug', 'Water', 'Water', 'Water', 'Grass', 'Grass',\n",
       "       'Grass', 'Normal', 'Normal', 'Water', 'Water', 'Psychic',\n",
       "       'Psychic', 'Psychic', 'Bug', 'Bug', 'Grass', 'Grass', 'Normal',\n",
       "       'Normal', 'Normal', 'Bug', 'Bug', 'Bug', 'Normal', 'Normal',\n",
       "       'Normal', 'Fighting', 'Fighting', 'Normal', 'Rock', 'Normal',\n",
       "       'Normal', 'Dark', 'Steel', 'Steel', 'Steel', 'Steel', 'Fighting',\n",
       "       'Fighting', 'Electric', 'Electric', 'Electric', 'Electric', 'Bug',\n",
       "       'Bug', 'Grass', 'Poison', 'Poison', 'Water', 'Water', 'Water',\n",
       "       'Water', 'Fire', 'Fire', 'Fire', 'Psychic', 'Psychic', 'Normal',\n",
       "       'Ground', 'Ground', 'Ground', 'Grass', 'Grass', 'Normal', 'Dragon',\n",
       "       'Normal', 'Poison', 'Rock', 'Rock', 'Water', 'Water', 'Water',\n",
       "       'Water', 'Ground', 'Ground', 'Rock', 'Rock', 'Rock', 'Rock',\n",
       "       'Water', 'Water', 'Normal', 'Normal', 'Ghost', 'Ghost', 'Ghost',\n",
       "       'Ghost', 'Grass', 'Psychic', 'Dark', 'Psychic', 'Ice', 'Ice',\n",
       "       'Ice', 'Ice', 'Ice', 'Water', 'Water', 'Water', 'Water', 'Water',\n",
       "       'Dragon', 'Dragon', 'Dragon', 'Steel', 'Steel', 'Steel', 'Rock',\n",
       "       'Ice', 'Steel', 'Dragon', 'Dragon', 'Water', 'Ground', 'Dragon',\n",
       "       'Steel', 'Psychic', 'Grass', 'Grass', 'Grass', 'Fire', 'Fire',\n",
       "       'Fire', 'Water', 'Water', 'Water', 'Normal', 'Normal', 'Normal',\n",
       "       'Normal', 'Normal', 'Bug', 'Bug', 'Electric', 'Electric',\n",
       "       'Electric', 'Grass', 'Grass', 'Rock', 'Rock', 'Rock', 'Rock',\n",
       "       'Bug', 'Bug', 'Bug', 'Bug', 'Bug', 'Electric', 'Water', 'Water',\n",
       "       'Grass', 'Grass', 'Water', 'Water', 'Normal', 'Ghost', 'Ghost',\n",
       "       'Normal', 'Normal', 'Ghost', 'Dark', 'Normal', 'Normal', 'Psychic',\n",
       "       'Poison', 'Poison', 'Steel', 'Steel', 'Rock', 'Psychic', 'Normal',\n",
       "       'Normal', 'Ghost', 'Dragon', 'Dragon', 'Dragon', 'Normal',\n",
       "       'Fighting', 'Fighting', 'Ground', 'Ground', 'Poison', 'Poison',\n",
       "       'Poison', 'Poison', 'Grass', 'Water', 'Water', 'Water', 'Grass',\n",
       "       'Grass', 'Dark', 'Electric', 'Normal', 'Ground', 'Grass',\n",
       "       'Electric', 'Fire', 'Fairy', 'Bug', 'Grass', 'Ice', 'Ground',\n",
       "       'Ice', 'Normal', 'Psychic', 'Rock', 'Ghost', 'Ice', 'Electric',\n",
       "       'Psychic', 'Psychic', 'Psychic', 'Steel', 'Water', 'Fire',\n",
       "       'Normal', 'Ghost', 'Psychic', 'Water', 'Water', 'Dark', 'Grass',\n",
       "       'Normal', 'Psychic', 'Grass', 'Grass', 'Grass', 'Fire', 'Fire',\n",
       "       'Fire', 'Water', 'Water', 'Water', 'Normal', 'Normal', 'Normal',\n",
       "       'Normal', 'Normal', 'Dark', 'Dark', 'Grass', 'Grass', 'Fire',\n",
       "       'Fire', 'Water', 'Water', 'Psychic', 'Psychic', 'Normal', 'Normal',\n",
       "       'Normal', 'Electric', 'Electric', 'Rock', 'Rock', 'Rock',\n",
       "       'Psychic', 'Psychic', 'Ground', 'Ground', 'Normal', 'Fighting',\n",
       "       'Fighting', 'Fighting', 'Water', 'Water', 'Water', 'Fighting',\n",
       "       'Fighting', 'Bug', 'Bug', 'Bug', 'Bug', 'Bug', 'Bug', 'Grass',\n",
       "       'Grass', 'Grass', 'Grass', 'Water', 'Ground', 'Ground', 'Ground',\n",
       "       'Fire', 'Fire', 'Grass', 'Bug', 'Bug', 'Dark', 'Dark', 'Psychic',\n",
       "       'Ghost', 'Ghost', 'Water', 'Water', 'Rock', 'Rock', 'Poison',\n",
       "       'Poison', 'Dark', 'Dark', 'Normal', 'Normal', 'Psychic', 'Psychic',\n",
       "       'Psychic', 'Psychic', 'Psychic', 'Psychic', 'Water', 'Water',\n",
       "       'Ice', 'Ice', 'Ice', 'Normal', 'Normal', 'Electric', 'Bug', 'Bug',\n",
       "       'Grass', 'Grass', 'Water', 'Water', 'Water', 'Bug', 'Bug', 'Grass',\n",
       "       'Grass', 'Steel', 'Steel', 'Steel', 'Electric', 'Electric',\n",
       "       'Electric', 'Psychic', 'Psychic', 'Ghost', 'Ghost', 'Ghost',\n",
       "       'Dragon', 'Dragon', 'Dragon', 'Ice', 'Ice', 'Ice', 'Bug', 'Bug',\n",
       "       'Ground', 'Fighting', 'Fighting', 'Dragon', 'Ground', 'Ground',\n",
       "       'Dark', 'Dark', 'Normal', 'Normal', 'Normal', 'Dark', 'Dark',\n",
       "       'Fire', 'Bug', 'Dark', 'Dark', 'Dark', 'Bug', 'Bug', 'Steel',\n",
       "       'Rock', 'Grass', 'Flying', 'Electric', 'Dragon', 'Dragon',\n",
       "       'Ground', 'Dragon', 'Water', 'Normal', 'Bug', 'Grass', 'Grass',\n",
       "       'Grass', 'Fire', 'Fire', 'Fire', 'Water', 'Water', 'Water',\n",
       "       'Normal', 'Normal', 'Normal', 'Fire', 'Fire', 'Bug', 'Bug', 'Bug',\n",
       "       'Fire', 'Fire', 'Fairy', 'Fairy', 'Fairy', 'Grass', 'Grass',\n",
       "       'Fighting', 'Fighting', 'Normal', 'Psychic', 'Psychic', 'Steel',\n",
       "       'Steel', 'Steel', 'Fairy', 'Fairy', 'Fairy', 'Fairy', 'Dark',\n",
       "       'Dark', 'Rock', 'Rock', 'Poison', 'Poison', 'Water', 'Water',\n",
       "       'Electric', 'Electric', 'Rock', 'Rock', 'Rock', 'Rock', 'Fairy',\n",
       "       'Fighting', 'Electric', 'Rock', 'Dragon', 'Dragon', 'Dragon',\n",
       "       'Steel', 'Ghost', 'Ghost', 'Ghost', 'Ghost', 'Ice', 'Ice',\n",
       "       'Flying', 'Flying', 'Fairy', 'Dark', 'Dragon', 'Rock', 'Psychic',\n",
       "       'Fire'], dtype=object)"
      ]
     },
     "execution_count": 8,
     "metadata": {},
     "output_type": "execute_result"
    }
   ],
   "source": [
    "pokemonSeries.values"
   ]
  },
  {
   "cell_type": "code",
   "execution_count": 13,
   "id": "3e61d4f1",
   "metadata": {},
   "outputs": [
    {
     "data": {
      "text/plain": [
       "Water       105\n",
       "Normal       93\n",
       "Grass        66\n",
       "Bug          63\n",
       "Fire         47\n",
       "Psychic      47\n",
       "Rock         41\n",
       "Electric     36\n",
       "Ground       30\n",
       "Poison       28\n",
       "Dark         28\n",
       "Fighting     25\n",
       "Dragon       24\n",
       "Ghost        23\n",
       "Ice          23\n",
       "Steel        22\n",
       "Fairy        17\n",
       "Flying        3\n",
       "Name: Type, dtype: int64"
      ]
     },
     "execution_count": 13,
     "metadata": {},
     "output_type": "execute_result"
    }
   ],
   "source": [
    "pokemonSeries.value_counts()"
   ]
  },
  {
   "cell_type": "code",
   "execution_count": 12,
   "id": "73e33b55",
   "metadata": {},
   "outputs": [
    {
     "data": {
      "text/plain": [
       "Water       14.563107\n",
       "Normal      12.898752\n",
       "Grass        9.153953\n",
       "Bug          8.737864\n",
       "Fire         6.518724\n",
       "Psychic      6.518724\n",
       "Rock         5.686546\n",
       "Electric     4.993065\n",
       "Ground       4.160888\n",
       "Poison       3.883495\n",
       "Dark         3.883495\n",
       "Fighting     3.467406\n",
       "Dragon       3.328710\n",
       "Ghost        3.190014\n",
       "Ice          3.190014\n",
       "Steel        3.051318\n",
       "Fairy        2.357836\n",
       "Flying       0.416089\n",
       "Name: Type, dtype: float64"
      ]
     },
     "execution_count": 12,
     "metadata": {},
     "output_type": "execute_result"
    }
   ],
   "source": [
    "pokemonSeries.value_counts(normalize=True)*100"
   ]
  },
  {
   "cell_type": "code",
   "execution_count": null,
   "id": "d8a58c59",
   "metadata": {},
   "outputs": [],
   "source": []
  }
 ],
 "metadata": {
  "kernelspec": {
   "display_name": "Python 3 (ipykernel)",
   "language": "python",
   "name": "python3"
  },
  "language_info": {
   "codemirror_mode": {
    "name": "ipython",
    "version": 3
   },
   "file_extension": ".py",
   "mimetype": "text/x-python",
   "name": "python",
   "nbconvert_exporter": "python",
   "pygments_lexer": "ipython3",
   "version": "3.8.10"
  }
 },
 "nbformat": 4,
 "nbformat_minor": 5
}
