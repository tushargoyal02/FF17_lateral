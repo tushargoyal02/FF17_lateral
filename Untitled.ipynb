{
 "cells": [
  {
   "cell_type": "code",
   "execution_count": 1,
   "id": "410b46cd",
   "metadata": {},
   "outputs": [],
   "source": [
    "def square(num):\n",
    "    print(num*2)"
   ]
  },
  {
   "cell_type": "code",
   "execution_count": 2,
   "id": "2a8656f0",
   "metadata": {},
   "outputs": [
    {
     "name": "stdout",
     "output_type": "stream",
     "text": [
      "20\n"
     ]
    }
   ],
   "source": [
    "# guess ?   => required argument\n",
    "square(10)"
   ]
  },
  {
   "cell_type": "code",
   "execution_count": 4,
   "id": "a1e489c6",
   "metadata": {},
   "outputs": [
    {
     "name": "stdout",
     "output_type": "stream",
     "text": [
      "20\n"
     ]
    }
   ],
   "source": [
    "square(10)\n"
   ]
  },
  {
   "cell_type": "code",
   "execution_count": 7,
   "id": "db7dac2e",
   "metadata": {},
   "outputs": [
    {
     "data": {
      "text/plain": [
       "<function __main__.square(num)>"
      ]
     },
     "execution_count": 7,
     "metadata": {},
     "output_type": "execute_result"
    }
   ],
   "source": [
    "#  variable which reference of my function  => square\n",
    "x=square\n",
    "x"
   ]
  },
  {
   "cell_type": "code",
   "execution_count": 8,
   "id": "7ddae8e4",
   "metadata": {},
   "outputs": [
    {
     "name": "stdout",
     "output_type": "stream",
     "text": [
      "<function square at 0x0000016FC3982310>\n"
     ]
    }
   ],
   "source": [
    "print(x)"
   ]
  },
  {
   "cell_type": "code",
   "execution_count": 9,
   "id": "0b255817",
   "metadata": {},
   "outputs": [
    {
     "name": "stdout",
     "output_type": "stream",
     "text": [
      "<function square at 0x0000016FC3982310>\n"
     ]
    }
   ],
   "source": [
    "print(square)"
   ]
  },
  {
   "cell_type": "code",
   "execution_count": 10,
   "id": "216cfc3e",
   "metadata": {},
   "outputs": [
    {
     "name": "stdout",
     "output_type": "stream",
     "text": [
      "20\n"
     ]
    }
   ],
   "source": [
    "x(10)"
   ]
  },
  {
   "cell_type": "code",
   "execution_count": 11,
   "id": "bb07d790",
   "metadata": {},
   "outputs": [
    {
     "name": "stdout",
     "output_type": "stream",
     "text": [
      "20\n"
     ]
    }
   ],
   "source": [
    "square(10)"
   ]
  },
  {
   "cell_type": "code",
   "execution_count": 12,
   "id": "a41a8365",
   "metadata": {},
   "outputs": [],
   "source": [
    "#  First class functions => function where the object variable ,\n",
    "#  function can be assigned to a argument\n",
    "\n",
    "#  Lambda functions vs function\n",
    "\n",
    "# funct => declare( function), parameter1 , expression\n",
    "\n",
    "#  lambda => annonymous they are faster(X)\n",
    "\n",
    "#  lambda => don't have a name, any number of parameter, but 1 expression"
   ]
  },
  {
   "cell_type": "code",
   "execution_count": 15,
   "id": "6ef8a36b",
   "metadata": {},
   "outputs": [
    {
     "data": {
      "text/plain": [
       "<function __main__.square(num)>"
      ]
     },
     "execution_count": 15,
     "metadata": {},
     "output_type": "execute_result"
    }
   ],
   "source": [
    "def square(num):\n",
    "    print(num*2)\n",
    "    return num*2\n",
    "    \n",
    "    \n",
    "square"
   ]
  },
  {
   "cell_type": "code",
   "execution_count": 18,
   "id": "19ca4751",
   "metadata": {},
   "outputs": [],
   "source": [
    "y = lambda num : num**2"
   ]
  },
  {
   "cell_type": "code",
   "execution_count": 19,
   "id": "30d9aebc",
   "metadata": {},
   "outputs": [
    {
     "data": {
      "text/plain": [
       "<function __main__.<lambda>(num)>"
      ]
     },
     "execution_count": 19,
     "metadata": {},
     "output_type": "execute_result"
    }
   ],
   "source": [
    "y"
   ]
  },
  {
   "cell_type": "code",
   "execution_count": 20,
   "id": "05dd3547",
   "metadata": {},
   "outputs": [
    {
     "data": {
      "text/plain": [
       "400"
      ]
     },
     "execution_count": 20,
     "metadata": {},
     "output_type": "execute_result"
    }
   ],
   "source": [
    "y(20)"
   ]
  },
  {
   "cell_type": "code",
   "execution_count": 21,
   "id": "0a9bf8c5",
   "metadata": {},
   "outputs": [],
   "source": [
    "#  normal vs lamba( oneline or inline functions)"
   ]
  },
  {
   "cell_type": "code",
   "execution_count": 22,
   "id": "a2531f71",
   "metadata": {},
   "outputs": [],
   "source": [
    "#  Data scientific => Data engineer"
   ]
  },
  {
   "cell_type": "code",
   "execution_count": 23,
   "id": "340f1333",
   "metadata": {},
   "outputs": [],
   "source": [
    "#  big data domain ( hadoop, hive)\n",
    "\n",
    "studentInfo=[ {\"name\":\"Yash\",\"marks\":[10,20,30] },\n",
    "            {\"name\":\"Jay\",\"marks\":[20,20,40] }]"
   ]
  },
  {
   "cell_type": "code",
   "execution_count": 24,
   "id": "6866c828",
   "metadata": {},
   "outputs": [
    {
     "data": {
      "text/plain": [
       "[{'name': 'Yash', 'marks': [10, 20, 30]},\n",
       " {'name': 'Jay', 'marks': [20, 20, 40]}]"
      ]
     },
     "execution_count": 24,
     "metadata": {},
     "output_type": "execute_result"
    }
   ],
   "source": [
    "studentInfo"
   ]
  },
  {
   "cell_type": "code",
   "execution_count": 28,
   "id": "5deb6907",
   "metadata": {},
   "outputs": [
    {
     "name": "stdout",
     "output_type": "stream",
     "text": [
      "Yash\n",
      "[10, 20, 30]\n",
      "Jay\n",
      "[20, 20, 40]\n"
     ]
    }
   ],
   "source": [
    "studentInfo=[ {\"name\":\"Yash\",\"marks\":[10,20,30] },\n",
    "            {\"name\":\"Jay\",\"marks\":[20,20,40] }]\n",
    "\n",
    "for data in studentInfo:\n",
    "    print(data[\"name\"])\n",
    "    print(data[\"marks\"])"
   ]
  },
  {
   "cell_type": "code",
   "execution_count": 29,
   "id": "b09eb976",
   "metadata": {},
   "outputs": [
    {
     "data": {
      "text/plain": [
       "<function __main__.<lambda>(num)>"
      ]
     },
     "execution_count": 29,
     "metadata": {},
     "output_type": "execute_result"
    }
   ],
   "source": [
    "#  dictionary are orderered => data dont have index position\n",
    "\n",
    "#  first class functions vs high order functions\n",
    "\n",
    "lambda num : num**2"
   ]
  },
  {
   "cell_type": "code",
   "execution_count": 30,
   "id": "fae5cb97",
   "metadata": {},
   "outputs": [
    {
     "name": "stdout",
     "output_type": "stream",
     "text": [
      "<function hello at 0x0000016FC54535E0>\n"
     ]
    }
   ],
   "source": [
    "def hello():\n",
    "    print(\"hey\")\n",
    "    \n",
    "    \n",
    "print(hello)"
   ]
  },
  {
   "cell_type": "code",
   "execution_count": 32,
   "id": "f8fac26b",
   "metadata": {},
   "outputs": [
    {
     "data": {
      "text/plain": [
       "100"
      ]
     },
     "execution_count": 32,
     "metadata": {},
     "output_type": "execute_result"
    }
   ],
   "source": [
    "(lambda num : num**2)(10)"
   ]
  },
  {
   "cell_type": "code",
   "execution_count": 33,
   "id": "d761fc31",
   "metadata": {},
   "outputs": [
    {
     "data": {
      "text/plain": [
       "100"
      ]
     },
     "execution_count": 33,
     "metadata": {},
     "output_type": "execute_result"
    }
   ],
   "source": [
    "myList=[10,20,30,40]\n",
    "sum(myList)\n",
    "#  average of the list"
   ]
  },
  {
   "cell_type": "code",
   "execution_count": 35,
   "id": "c6dbb27d",
   "metadata": {},
   "outputs": [
    {
     "data": {
      "text/plain": [
       "25.0"
      ]
     },
     "execution_count": 35,
     "metadata": {},
     "output_type": "execute_result"
    }
   ],
   "source": [
    "sum(myList)/len(myList)"
   ]
  },
  {
   "cell_type": "code",
   "execution_count": 37,
   "id": "16d7d0f8",
   "metadata": {},
   "outputs": [
    {
     "data": {
      "text/plain": [
       "25.0"
      ]
     },
     "execution_count": 37,
     "metadata": {},
     "output_type": "execute_result"
    }
   ],
   "source": [
    "x=lambda seq : sum(myList) / len(myList)\n",
    "x(myList)"
   ]
  },
  {
   "cell_type": "code",
   "execution_count": 38,
   "id": "7b79a6d2",
   "metadata": {},
   "outputs": [
    {
     "data": {
      "text/plain": [
       "25.0"
      ]
     },
     "execution_count": 38,
     "metadata": {},
     "output_type": "execute_result"
    }
   ],
   "source": [
    "(lambda seq : sum(myList) / len(myList))(myList)\n"
   ]
  },
  {
   "cell_type": "code",
   "execution_count": 39,
   "id": "b59f7bed",
   "metadata": {},
   "outputs": [
    {
     "name": "stdout",
     "output_type": "stream",
     "text": [
      "Yash\n",
      "[10, 20, 30]\n",
      "Jay\n",
      "[20, 20, 40]\n"
     ]
    }
   ],
   "source": [
    "studentInfo=[ {\"name\":\"Yash\",\"marks\":[10,20,30] },\n",
    "            {\"name\":\"Jay\",\"marks\":[20,20,40] }]\n",
    "\n",
    "for data in studentInfo:\n",
    "    print(data[\"name\"])\n",
    "    print(data[\"marks\"])"
   ]
  },
  {
   "cell_type": "code",
   "execution_count": 45,
   "id": "edfd6e06",
   "metadata": {},
   "outputs": [],
   "source": [
    "#  limitation ( key-value) => limitation? \n",
    "#  values => immutable vs mututable\n",
    "\n",
    "\n",
    "functionDict = { \"average\" : lambda seq : sum(seq) / len(seq)}\n",
    "\n"
   ]
  },
  {
   "cell_type": "code",
   "execution_count": 49,
   "id": "2c779b09",
   "metadata": {},
   "outputs": [
    {
     "data": {
      "text/plain": [
       "<function __main__.<lambda>(seq)>"
      ]
     },
     "execution_count": 49,
     "metadata": {},
     "output_type": "execute_result"
    }
   ],
   "source": [
    "functionDict[\"average\"]"
   ]
  },
  {
   "cell_type": "code",
   "execution_count": 51,
   "id": "79cdd87b",
   "metadata": {},
   "outputs": [
    {
     "data": {
      "text/plain": [
       "25.0"
      ]
     },
     "execution_count": 51,
     "metadata": {},
     "output_type": "execute_result"
    }
   ],
   "source": [
    "functionDict[\"average\"](myList)"
   ]
  },
  {
   "cell_type": "code",
   "execution_count": 52,
   "id": "38e50e36",
   "metadata": {},
   "outputs": [
    {
     "data": {
      "text/plain": [
       "list"
      ]
     },
     "execution_count": 52,
     "metadata": {},
     "output_type": "execute_result"
    }
   ],
   "source": [
    "type(myList)"
   ]
  },
  {
   "cell_type": "code",
   "execution_count": 53,
   "id": "8f0e9f0a",
   "metadata": {},
   "outputs": [
    {
     "data": {
      "text/plain": [
       "dict"
      ]
     },
     "execution_count": 53,
     "metadata": {},
     "output_type": "execute_result"
    }
   ],
   "source": [
    "type(functionDict)"
   ]
  },
  {
   "cell_type": "code",
   "execution_count": 68,
   "id": "e477d652",
   "metadata": {},
   "outputs": [],
   "source": [
    "functionDict = { \"average\" : lambda seq : sum(seq) / len(seq)}"
   ]
  },
  {
   "cell_type": "code",
   "execution_count": 70,
   "id": "70c6415d",
   "metadata": {},
   "outputs": [
    {
     "name": "stdout",
     "output_type": "stream",
     "text": [
      "20.0\n",
      "156.66666666666666\n"
     ]
    }
   ],
   "source": [
    "studentInfo=[ {\"name\":\"Yash\",\"marks\":[10,20,30] },\n",
    "            {\"name\":\"Jay\",\"marks\":[10,20,440] }]\n",
    "\n",
    "for data in studentInfo:\n",
    "    totalmarks = data[\"marks\"]\n",
    "\n",
    "    out=functionDict[\"average\"](totalmarks)\n",
    "    print(out)"
   ]
  },
  {
   "cell_type": "code",
   "execution_count": 67,
   "id": "7d067139",
   "metadata": {},
   "outputs": [
    {
     "data": {
      "text/plain": [
       "25.0"
      ]
     },
     "execution_count": 67,
     "metadata": {},
     "output_type": "execute_result"
    }
   ],
   "source": [
    "functionDict[\"average\"]([10,20,4400])"
   ]
  },
  {
   "cell_type": "code",
   "execution_count": null,
   "id": "310d079a",
   "metadata": {},
   "outputs": [],
   "source": []
  }
 ],
 "metadata": {
  "kernelspec": {
   "display_name": "Python 3 (ipykernel)",
   "language": "python",
   "name": "python3"
  },
  "language_info": {
   "codemirror_mode": {
    "name": "ipython",
    "version": 3
   },
   "file_extension": ".py",
   "mimetype": "text/x-python",
   "name": "python",
   "nbconvert_exporter": "python",
   "pygments_lexer": "ipython3",
   "version": "3.8.10"
  }
 },
 "nbformat": 4,
 "nbformat_minor": 5
}
